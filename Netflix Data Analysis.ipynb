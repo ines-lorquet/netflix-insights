{
 "cells": [
  {
   "cell_type": "markdown",
   "metadata": {},
   "source": [
    "### 3"
   ]
  },
  {
   "cell_type": "code",
   "execution_count": 25,
   "metadata": {},
   "outputs": [],
   "source": [
    "import pandas as pd\n",
    "\n",
    "df = pd.read_csv('netflix_titles.csv')"
   ]
  },
  {
   "cell_type": "markdown",
   "metadata": {},
   "source": [
    "### 4"
   ]
  },
  {
   "cell_type": "code",
   "execution_count": null,
   "metadata": {},
   "outputs": [],
   "source": [
    "df.tail()"
   ]
  },
  {
   "cell_type": "code",
   "execution_count": null,
   "metadata": {},
   "outputs": [],
   "source": [
    "df.head()"
   ]
  },
  {
   "cell_type": "markdown",
   "metadata": {},
   "source": [
    "### 5\n",
    "**Explanation** \n",
    "- Display the information of the DataFrame\n",
    "    - Type of index,\n",
    "    - Columns\n",
    "    - Non-null values\n",
    "    - Memory usage\n"
   ]
  },
  {
   "cell_type": "code",
   "execution_count": null,
   "metadata": {},
   "outputs": [],
   "source": [
    "df.info()"
   ]
  },
  {
   "cell_type": "markdown",
   "metadata": {},
   "source": [
    "### 6\n",
    "**Explanation** \n",
    "- Display the dimensions of the DataFrame.\n"
   ]
  },
  {
   "cell_type": "code",
   "execution_count": 4,
   "metadata": {},
   "outputs": [
    {
     "name": "stdout",
     "output_type": "stream",
     "text": [
      "Number of variables (columns): 12\n",
      "Number of observations (rows): 8807\n"
     ]
    }
   ],
   "source": [
    "dimensions = df.shape\n",
    "nb_rows, nb_columns = dimensions\n",
    "print(f\"Number of variables (columns): {nb_columns}\")\n",
    "print(f\"Number of observations (rows): {nb_rows}\")\n"
   ]
  },
  {
   "cell_type": "markdown",
   "metadata": {},
   "source": [
    "### 7\n",
    "**Explanation** \n",
    "- Display the columns of the DataFrame"
   ]
  },
  {
   "cell_type": "code",
   "execution_count": null,
   "metadata": {},
   "outputs": [],
   "source": [
    "columns = df.columns\n",
    "print(columns)"
   ]
  },
  {
   "cell_type": "markdown",
   "metadata": {},
   "source": [
    "### 8\n",
    "**Explanation** \n",
    "*column_types[column_types.apply(lambda x: pd.api.types.is_numeric_dtype(x))]*\n",
    "1. `apply()`\n",
    "    - applies a function to each element of the series column_types\n",
    "2. `lambda x`\n",
    "    - pd.api.types.is_numeric_dtype(x) is a lambda function that checks if the type x is numeric using pd.api.types.is_numeric_dtype(x)\n",
    "- This expression returns a series of boolean values (True or False), where True indicates that the corresponding column is numeric.\n"
   ]
  },
  {
   "cell_type": "code",
   "execution_count": null,
   "metadata": {},
   "outputs": [],
   "source": [
    "column_types = df.dtypes\n",
    "\n",
    "quantitative_columns = column_types[column_types.apply(lambda x: pd.api.types.is_numeric_dtype(x))]\n",
    "qualitative_columns = column_types[column_types.apply(lambda x: pd.api.types.is_categorical_dtype(x) or pd.api.types.is_object_dtype(x))]\n",
    "\n",
    "print(\"\\nQuantitative columns:\")\n",
    "print(quantitative_columns)\n",
    "print(\"\\nQualitative columns:\")\n",
    "print(qualitative_columns)\n"
   ]
  },
  {
   "cell_type": "markdown",
   "metadata": {},
   "source": [
    "### 9\n",
    "**Explanation** \n",
    "1. `missing_data = df.isnull().sum()`\n",
    "    - Creates a series `missing_data` with missing values per column.\n",
    "\n",
    "2. `total_missing_data = df.isnull().sum().sum()`\n",
    "    - Calculates total missing values in the DataFrame.\n",
    "\n",
    "3. `missing_proportion = (missing_data / len(df)) * 100`\n",
    "    - Calculates missing values proportion per column as a percentage.\n",
    "\n",
    "4. `total_cells = df.size`\n",
    "    - Calculates total number of cells in the DataFrame.\n",
    "\n",
    "5. `total_missing_percentage = (total_missing_data / total_cells) * 100`\n",
    "    - Calculates total missing values percentage across the DataFrame.\n",
    "\n",
    "6. Displaying the results\n",
    "    - `print(\"Missing data per column:\")` displays missing values per column.   \n",
    "    - `print(missing_data)` displays `missing_data`.\n",
    "    - `print(f\"Total percentage of missing data: {total_missing_percentage:.2f}%\")` displays total missing values percentage.\n"
   ]
  },
  {
   "cell_type": "code",
   "execution_count": null,
   "metadata": {},
   "outputs": [],
   "source": [
    "import matplotlib.pyplot as plt\n",
    "import seaborn as sns\n",
    "\n",
    "missing_data = df.isnull().sum()\n",
    "total_missing_data = df.isnull().sum().sum()\n",
    "missing_proportion = (missing_data / len(df)) * 100\n",
    "total_cells = df.size\n",
    "total_missing_percentage = (total_missing_data / total_cells) * 100\n",
    "\n",
    "plt.figure(figsize=(10,6))\n",
    "sns.barplot(x=missing_data.index, y=missing_data.values, palette=\"Blues_r\")\n",
    "plt.xlabel('\\n Column', fontsize=15, color='#2b50bf')\n",
    "plt.ylabel(\"Nb Missing Data\\n\", fontsize=15, color='#2b50bf')\n",
    "plt.title(\"Nb missing data per colomn\\n\", fontsize=18, color='#3b79e5')\n",
    "plt.xticks(rotation= 45)\n",
    "plt.tight_layout()\n",
    "\n",
    "plt.show()\n",
    "\n",
    "print(\"Total percentage of missing data:\", total_missing_percentage)\n"
   ]
  },
  {
   "cell_type": "markdown",
   "metadata": {},
   "source": [
    "### 10\n",
    "**Explanation** \n",
    "1. `missing_data = df.isnull().sum()`\n",
    "    - Creates a series `missing_data` with missing values per column.\n",
    "\n",
    "2. `total_missing_data = df.isnull().sum().sum()`\n",
    "    - Calculates total missing values in the DataFrame.\n",
    "\n",
    "3. `missing_proportion = (missing_data / len(df)) * 100`\n",
    "    - Calculates missing values proportion per column as a percentage."
   ]
  },
  {
   "cell_type": "code",
   "execution_count": null,
   "metadata": {},
   "outputs": [],
   "source": [
    "import missingno as msno\n",
    "msno.bar(df)"
   ]
  },
  {
   "cell_type": "markdown",
   "metadata": {},
   "source": [
    "### 11\n",
    "**Explanation** \n",
    "1. `random_observation = df.sample()` \n",
    "   - Selects a random observation from the DataFrame df.\n",
    "2. `print(random_observation)`\n",
    "   - Displays the selected random observation.\n"
   ]
  },
  {
   "cell_type": "code",
   "execution_count": null,
   "metadata": {},
   "outputs": [],
   "source": [
    "random_observation = df.sample()\n",
    "print(random_observation)"
   ]
  },
  {
   "cell_type": "markdown",
   "metadata": {},
   "source": [
    "### 12\n",
    "**Explanation** \n",
    "1. `df['Titre'] == 'Catch Me If You Can'` \n",
    "   - Crée un masque booléen qui sélectionne toutes les lignes où la colonne \"Titre\" est égale à \"Catch Me If You Can\".\n",
    "2. `df[...]`\n",
    "   - Filtre le DataFrame en utilisant ce masque pour sélectionner toutes les informations relatives à l'œuvre \"Catch Me If You Can\".\n",
    "3. `print(info_catch_me)`\n",
    "    -  Affiche ces informations."
   ]
  },
  {
   "cell_type": "code",
   "execution_count": null,
   "metadata": {},
   "outputs": [],
   "source": [
    "info = df[df['title'] == 'Catch Me If You Can']\n",
    "print(info)"
   ]
  },
  {
   "cell_type": "markdown",
   "metadata": {},
   "source": [
    "### 13 | 14\n",
    "**Explanation** \n",
    "1. `df.query(\"type == 'TV Show'\")` or `df.query(\"type == 'Movie'\")`\n",
    "   - Filter the DataFrame to select only the films with type \"Movie\" or \"TV Show\"\n",
    "1. `df.sort_values(by='release_year', ascending=False)` \n",
    "   - Sorts the DataFrame by the \"release_year\" column in descending order (from newest to oldest)\n",
    "2. `.iloc[0]['Titre'] `\n",
    "   - Selects the movie title in the first row (the most recent movie) of the sorted DataFrame\n",
    "3. `print(f\"The most recent film is : {most_recent_film}\")`\n",
    "    - Displays the name of the most recent movie"
   ]
  },
  {
   "cell_type": "code",
   "execution_count": null,
   "metadata": {},
   "outputs": [],
   "source": [
    "most_recent_film = df.query(\"type == 'Movie'\").sort_values(by='release_year', ascending=False).iloc[0]['title']\n",
    "print(f\"The most recent film is : {most_recent_film}\")"
   ]
  },
  {
   "cell_type": "code",
   "execution_count": null,
   "metadata": {},
   "outputs": [],
   "source": [
    "most_recent_tv_show = df.query(\"type == 'TV Show'\").sort_values(by='release_year', ascending=False).iloc[0]['title']\n",
    "print(f\"The most recent film is : {most_recent_tv_show}\")"
   ]
  },
  {
   "cell_type": "markdown",
   "metadata": {},
   "source": [
    "### 15\n",
    "**Explanation** \n",
    "1. `df['date_added'] = pd.to_datetime(df['date_added'], errors='coerce')`\n",
    "   - Convert the date_added column to DateTime type\n",
    "1. `print(\"date_added : \", df.dtypes['date_added'])` \n",
    "   - Display the data type of the date_added column."
   ]
  },
  {
   "cell_type": "code",
   "execution_count": 11,
   "metadata": {},
   "outputs": [
    {
     "name": "stdout",
     "output_type": "stream",
     "text": [
      "date_added :  datetime64[ns]\n"
     ]
    }
   ],
   "source": [
    "df['date_added'] = pd.to_datetime(df['date_added'], errors='coerce')\n",
    "print(\"date_added : \",df.dtypes['date_added'])"
   ]
  },
  {
   "cell_type": "markdown",
   "metadata": {},
   "source": [
    "### 16\n",
    "**Explanation** \n",
    "1. `df.loc[df['type'] == 'Movie', 'duration'].fillna('0 min')`\n",
    "   - Fill missing values in the 'duration' column for movies ('Movie') with the string '0 min'\n",
    "2. `df.loc[df['type'] == 'Movie', 'duration'] = ...` \n",
    "   - Assign the filled values (or existing values if they are not missing) to the 'duration' column only for movies ('Movie')\n",
    "\n",
    "\n",
    "1. `df.loc[df['type'] == 'Movie', 'duration'].str.replace(' min', '')`\n",
    "   - Remove the text ' min' from each value in the 'duration' column for movies ('Movie')\n",
    "2. `.astype(int)` \n",
    "   - Convert the values in the 'duration' column (which are now strings representing numbers) to integers"
   ]
  },
  {
   "cell_type": "code",
   "execution_count": null,
   "metadata": {},
   "outputs": [],
   "source": [
    "df.loc[df['type'] == 'Movie', 'duration'] = df.loc[df['type'] == 'Movie', 'duration'].fillna('0 min')\n",
    "df.loc[df['type'] == 'Movie', 'duration'] = df.loc[df['type'] == 'Movie', 'duration'].str.replace(' min', '').astype(int)\n",
    "\n",
    "print(df[df['type'] == 'Movie'][['type', 'duration']])\n"
   ]
  },
  {
   "cell_type": "code",
   "execution_count": null,
   "metadata": {},
   "outputs": [],
   "source": [
    "df.loc[df['type'] == 'TV Show', 'duration'] = df.loc[df['type'] == 'TV Show', 'duration'].fillna('0')\n",
    "df.loc[df['type'] == 'TV Show', 'duration'] = df.loc[df['type'] == 'TV Show', 'duration'].str.replace(r'\\D', '').astype(int)\n",
    "\n",
    "print(df['duration'])"
   ]
  },
  {
   "cell_type": "markdown",
   "metadata": {},
   "source": [
    "### 18\n",
    "**Explanation** \n",
    "1. `df['listed_in'] = ...` \n",
    "   - Replace the values in the 'listed_in' column with the new lists of genres obtained after splitting\n",
    "2. `df['listed_in'].str.split(', ')`\n",
    "   - Apply the split(', ') method to each element in the 'listed_in' column. This splits each string into a list of substrings using ', ' as a separator\n"
   ]
  },
  {
   "cell_type": "code",
   "execution_count": 27,
   "metadata": {},
   "outputs": [
    {
     "name": "stdout",
     "output_type": "stream",
     "text": [
      "0                                         [Documentaries]\n",
      "1       [International TV Shows, TV Dramas, TV Mysteries]\n",
      "2       [Crime TV Shows, International TV Shows, TV Ac...\n",
      "3                                [Docuseries, Reality TV]\n",
      "4       [International TV Shows, Romantic TV Shows, TV...\n",
      "                              ...                        \n",
      "8802                     [Cult Movies, Dramas, Thrillers]\n",
      "8803             [Kids' TV, Korean TV Shows, TV Comedies]\n",
      "8804                            [Comedies, Horror Movies]\n",
      "8805                 [Children & Family Movies, Comedies]\n",
      "8806     [Dramas, International Movies, Music & Musicals]\n",
      "Name: listed_in, Length: 8807, dtype: object\n"
     ]
    }
   ],
   "source": [
    "df['listed_in'] = df['listed_in'].str.split(', ')\n",
    "\n",
    "print(df['listed_in'])"
   ]
  },
  {
   "cell_type": "markdown",
   "metadata": {},
   "source": [
    "### 19\n",
    "**Explanation** \n",
    "1. `df['type'].value_counts()` \n",
    "   - This method counts the number of occurrences of each unique value in the 'type' column of the DataFrame df and returns the results as a series. Each unique value of the 'type' column is an index of the series, and the number of occurrences of that value is the value associated with that index."
   ]
  },
  {
   "cell_type": "code",
   "execution_count": null,
   "metadata": {},
   "outputs": [],
   "source": [
    "print(\"Unique values of 'type' with their occurrences:\")\n",
    "print(df['type'].value_counts())\n",
    "\n",
    "print(\"\\nUnique values of 'country' with their occurrences:\")\n",
    "print(df['country'].value_counts())\n",
    "\n",
    "print(\"\\nUnique values of 'release_year' with their occurrences:\")\n",
    "print(df['release_year'].value_counts())\n",
    "\n",
    "print(\"\\nUnique values of 'rating' with their occurrences:\")\n",
    "print(df['rating'].value_counts())\n",
    "\n",
    "print(\"\\nUnique values of 'listed_in' with their occurrences:\")\n",
    "print(df['listed_in'].explode().value_counts())\n"
   ]
  },
  {
   "cell_type": "markdown",
   "metadata": {},
   "source": [
    "### 20\n",
    "**This code counts the number of works directed by each director in the 'director' column, and then identifies directors who have directed more than one work.** \n",
    "1. `directors_count = df['director'].value_counts()` \n",
    "   - This line counts the occurrences of each director in the 'director' column and stores the results in the 'directors_count' variable\n",
    "1. `prolific_directors = directors_count[directors_count > 1]` \n",
    "   - This line filters the directors who have directed more than one work by selecting values from 'directors_count' that are greater than 1. These directors are stored in the 'prolific_directors' variable"
   ]
  },
  {
   "cell_type": "code",
   "execution_count": null,
   "metadata": {},
   "outputs": [],
   "source": [
    "directors_count = df['director'].value_counts()\n",
    "prolific_directors = directors_count[directors_count > 1]\n",
    "\n",
    "if not prolific_directors.empty:\n",
    "    print(\"Directors who have produced more than one work:\")\n",
    "    print(prolific_directors)\n",
    "else:\n",
    "    print(\"No director has produced more than one work.\")"
   ]
  },
  {
   "cell_type": "markdown",
   "metadata": {},
   "source": [
    "### 21\n",
    "**This code determines the year with the highest number of additions to the catalog and displays that year along with the corresponding number of additions.** \n",
    "\n",
    "1. `prolific_years = df['release_year'].value_counts()`\n",
    "    - This line counts the number of works released for each year in the 'release_year' column and stores the results in the 'prolific_years' variable. This gives a count of the number of works released per year\n",
    "2. `most_prolific_year = prolific_years.idxmax()`\n",
    "    - This line retrieves the year with the highest number of additions to the catalog using the idxmax() method on the 'prolific_years' variable. This returns the index of the year with the maximum value\n",
    "3. `number_of_films = prolific_years.max()`\n",
    "    - This line retrieves the maximum number of additions to the catalog using the max() method on the 'prolific_years' variable"
   ]
  },
  {
   "cell_type": "code",
   "execution_count": null,
   "metadata": {},
   "outputs": [],
   "source": [
    "prolific_years = df['release_year'].value_counts()\n",
    "\n",
    "most_prolific_year = prolific_years.idxmax()\n",
    "number_of_films = prolific_years.max()\n",
    "\n",
    "print(f\"Year with the most additions to the catalog: {most_prolific_year}\")\n",
    "print(f\"Number of additions to the catalog in that year: {number_of_films}\")"
   ]
  },
  {
   "cell_type": "markdown",
   "metadata": {},
   "source": [
    "### 22\n",
    "**This code identifies the year with the highest number of TV shows added to the catalog, as well as the number of TV shows added in that year**\n",
    "\n",
    "1. `tv_show_prolific_years = df.loc[df['type'] == 'TV Show', 'release_year'].value_counts()`\n",
    "    - This line filters the entries in the 'release_year' column for which the type is \"TV Show\", then counts the number of TV shows for each year. The results are stored in the 'tv_show_prolific_years' variable, which contains a count of the number of TV shows added per year.\n",
    "2. `tv_show_most_prolific_year = tv_show_prolific_years.idxmax()`\n",
    "    - This line retrieves the year with the highest number of TV shows added to the catalog using the idxmax() method on the 'tv_show_prolific_years' variable. This returns the index of the year with the maximum value.\n",
    "3. `number_of_tv_shows = tv_show_prolific_years.max()`\n",
    "    - This line retrieves the maximum number of TV shows added to the catalog using the max() method on the 'tv_show_prolific_years' variable."
   ]
  },
  {
   "cell_type": "code",
   "execution_count": null,
   "metadata": {},
   "outputs": [],
   "source": [
    "tv_show_prolific_years = df.loc[df['type'] == 'TV Show','release_year'].value_counts()\n",
    "\n",
    "tv_show_most_prolific_year = tv_show_prolific_years.idxmax()\n",
    "number_of_tv_shows = tv_show_prolific_years.max()\n",
    "\n",
    "print(f\"Year with the most TV shows added to the catalog: {tv_show_most_prolific_year}\")\n",
    "print(f\"Number of additions to the catalog in that year: {number_of_tv_shows}\")"
   ]
  },
  {
   "cell_type": "markdown",
   "metadata": {},
   "source": [
    "### 23 a\n",
    "**This code creates a bar chart to represent the distribution of different types of works in the DataFrame.**\n",
    "\n",
    "1. `import matplotlib.pyplot as plt`: Imports the matplotlib.pyplot module for plotting graphs.\n",
    "2. `cmap = plt.get_cmap('viridis')`: Creates a 'viridis' colormap using Matplotlib's get_cmap() function. This sets the colors used in the graph.\n",
    "3. `type_counts = df['type'].value_counts()`: Counts the number of works of each type in the 'type' column of the DataFrame and stores the results in the 'type_counts' variable.\n",
    "4. `plt.figure(figsize=(3, 6))`: Creates a new figure with a size of 3 inches wide and 6 inches tall.\n",
    "5. `type_counts.plot(kind='bar', color=[cmap(0.2), cmap(0.8)])`: Plots a bar chart using the values in 'type_counts'. The colors of the bars are set using the 'viridis' colormap. The color of the first bar corresponds to the color at 20% of the 'viridis' color scale, and the color of the second bar corresponds to the color at 80% of the scale.\n",
    "6. `plt.title(\"Distribution of types of works\")`: Adds a title to the graph.\n",
    "7. `plt.xlabel(\"Type of work\")`: Adds a label to the x-axis.\n",
    "8. `plt.ylabel(\"Number of works\")`: Adds a label to the y-axis.\n",
    "9. `plt.xticks(rotation=0)`: Rotates the x-axis labels to 0 degrees.\n",
    "10. `plt.grid(axis='y', linestyle='--', alpha=0.7)`: Adds a grid to the y-axes with a dashed line style and transparency of 0.7.\n",
    "11. `plt.tight_layout()`: Adjusts the layout of the graph to avoid the title being cut off.\n",
    "12. `plt.show()`: Displays the graph."
   ]
  },
  {
   "cell_type": "code",
   "execution_count": null,
   "metadata": {},
   "outputs": [],
   "source": [
    "import matplotlib.pyplot as plt\n",
    "cmap = plt.get_cmap('viridis')\n",
    "\n",
    "type_counts = df['type'].value_counts()\n",
    "\n",
    "plt.figure(figsize=(4, 5))\n",
    "type_counts.plot(kind='bar', color=[cmap(0.5), cmap(0.3)])  \n",
    "plt.title(\"Distribution of types\")\n",
    "plt.xlabel(\"Type\")\n",
    "plt.ylabel(\"Number\")\n",
    "plt.xticks(rotation=0)\n",
    "plt.grid(axis='y', linestyle='--', alpha=0.7)\n",
    "plt.tight_layout()\n",
    "plt.show()"
   ]
  },
  {
   "cell_type": "markdown",
   "metadata": {},
   "source": [
    "### 23 b\n",
    "1. **Imports**:\n",
    "   - `import numpy as np`: Imports the NumPy module for mathematical operations.\n",
    "   \n",
    "2. **Counting works by country**:\n",
    "   - `top_countries = df['country'].value_counts().head(15)`: Counts the number of works by country and selects the top 15 countries with the highest number of works.\n",
    "   - `other_countries = df['country'].value_counts().tail(-15)`: Counts the number of works for countries other than the top 15.\n",
    "   - `other_countries_sum = other_countries.sum()`: Calculates the sum of the number of works for countries other than the top 15.\n",
    "   \n",
    "3. **Creating the data series**:\n",
    "   - `all_countries = pd.concat([top_countries, pd.Series(other_countries_sum, index=['Other Countries'])])`: Combines the top 15 countries with the sum of other countries into a single data series.\n",
    "   \n",
    "4. **Sorting countries in descending order**:\n",
    "   - `all_countries_sorted = all_countries.sort_values(ascending=False)`: Sorts the countries in descending order based on the number of works.\n",
    "   \n",
    "5. **Creating the colormap**:\n",
    "   - `cmap = plt.get_cmap('viridis')`: Gets a 'viridis' colormap from Matplotlib.\n",
    "   - `colors = cmap(np.linspace(0, 1, len(all_countries_sorted)))`: Generates a list of colors based on the number of countries.\n",
    "   \n",
    "6. **Creating the bar chart**:\n",
    "   - `plt.figure(figsize=(12, 6))`: Creates a new figure with a size of 12 inches wide and 6 inches high.\n",
    "   - `all_countries_sorted.plot(kind='bar', color=colors)`: Plots a bar chart using the sorted data and generated colors.\n",
    "   \n",
    "7. **Adding titles and labels**:\n",
    "   - `plt.title(\"Distribution of works by country\")`: Adds a title to the chart.\n",
    "   - `plt.xlabel(\"Country\")`: Adds a label to the x-axis.\n",
    "   - `plt.ylabel(\"Number of works\")`: Adds a label to the y-axis.\n",
    "   - `plt.xticks(rotation=45)`: Rotates the x-axis labels for better readability.\n",
    "   \n",
    "8. **Adding gridlines and adjusting layout**:\n",
    "   - `plt.grid(axis='y', linestyle='--', alpha=0.7)`: Adds gridlines to the y-axis with a dashed line style and 0.7 transparency.\n",
    "   - `plt.tight_layout()`: Adjusts the layout of the chart to prevent the title from being cut off.\n",
    "   \n",
    "9. **Displaying the chart**:\n",
    "   - `plt.show()`: Displays the chart."
   ]
  },
  {
   "cell_type": "code",
   "execution_count": null,
   "metadata": {},
   "outputs": [],
   "source": [
    "import numpy as np\n",
    "\n",
    "top_countries = df['country'].value_counts().head(15)\n",
    "\n",
    "other_countries = df['country'].value_counts().tail(-15)\n",
    "other_countries_sum = other_countries.sum()\n",
    "\n",
    "all_countries = pd.concat([top_countries, pd.Series(other_countries_sum, index=['Other Countries'])])\n",
    "\n",
    "all_countries_sorted = all_countries.sort_values(ascending=False)\n",
    "\n",
    "cmap = plt.get_cmap('viridis')\n",
    "colors = cmap(np.linspace(0, 1, len(all_countries_sorted)))\n",
    "\n",
    "plt.figure(figsize=(12, 6))\n",
    "all_countries_sorted.plot(kind='bar', color=colors)\n",
    "plt.title(\"Distribution of works by country\")\n",
    "plt.xlabel(\"Country\")\n",
    "plt.ylabel(\"Number of works\")\n",
    "plt.xticks(rotation=45)\n",
    "plt.grid(axis='y', linestyle='--', alpha=0.7)\n",
    "plt.tight_layout()\n",
    "plt.show()\n"
   ]
  },
  {
   "cell_type": "markdown",
   "metadata": {},
   "source": [
    "### 23 c\n",
    "\n",
    "1. `top_years = df['release_year'].value_counts().head(15)`: Counts the occurrences of each release year in the 'release_year' column, then selects the top 15 years with the highest counts.\n",
    "2. `other_years = df['release_year'].value_counts().tail(-15)`: Counts the occurrences of each release year, excluding the top 15 years, then selects the rest.\n",
    "3. `other_years_sum = other_years.sum()`: Calculates the total count of works for the other years.\n",
    "4. `all_years = pd.concat([top_years, pd.Series(other_years_sum, index=['Other Years'])])`: Concatenates the top years and the sum of other years into a single DataFrame, with the label 'Other Years'.\n",
    "5. `all_years = all_years.sort_values(ascending=False)`: Sorts the years in descending order based on the number of works.\n",
    "6. `cmap = plt.get_cmap('viridis')`: Retrieves the 'viridis' colormap.\n",
    "7. `colors = cmap(np.linspace(0, 1, len(all_years)))`: Generates a range of colors from the colormap corresponding to the number of years.\n",
    "8. Plot the bar chart with the sorted data, using the colors generated.\n",
    "9. Adds titles, labels, and grid lines to the plot for clarity.\n",
    "10. Displays the plot."
   ]
  },
  {
   "cell_type": "code",
   "execution_count": null,
   "metadata": {},
   "outputs": [],
   "source": [
    "top_years = df['release_year'].value_counts().head(15)\n",
    "other_years = df['release_year'].value_counts().tail(-15)\n",
    "other_years_sum = other_years.sum()\n",
    "all_years = pd.concat([top_years, pd.Series(other_years_sum, index=['Other Years'])])\n",
    "\n",
    "all_years = all_years.sort_values(ascending=False)\n",
    "\n",
    "cmap = plt.get_cmap('viridis')\n",
    "colors = cmap(np.linspace(0, 1, len(all_years)))\n",
    "\n",
    "plt.figure(figsize=(12, 6))\n",
    "all_years.plot(kind='bar', color=colors)\n",
    "plt.title(\"Distribution of works by years\")\n",
    "plt.xlabel(\"Years\")\n",
    "plt.ylabel(\"Number of works\")\n",
    "plt.xticks(rotation=45)\n",
    "plt.grid(axis='y', linestyle='--', alpha=0.7)\n",
    "plt.tight_layout()\n",
    "plt.show()\n"
   ]
  },
  {
   "cell_type": "markdown",
   "metadata": {},
   "source": [
    "### 23 d\n",
    "1. `df['rating'] = df['rating'].astype(str) ` Converts the 'rating' column to string type. This ensures that the ratings are treated as categorical data when plotting.\n",
    "2.  `plt.figure(figsize=(8, 6)) ` Creates a new figure for the plot with a size of 8x6 inches.\n",
    "3.  `df['rating'].value_counts().sort_index().plot(kind='bar', color='blue') ` Counts the occurrences of each rating value, sorts them by index (rating value), and plots them as a bar chart with blue color.\n",
    "4. `plt.title('Distribution of Ratings') ` Adds a title to the plot.\n",
    "5. `plt.xlabel('Rating') ` Adds a label to the x-axis indicating the rating.\n",
    "6. `plt.ylabel('Number of Films') ` Adds a label to the y-axis indicating the number of films.\n",
    "7. `plt.grid(False) ` Turns off the grid lines for better visualization.\n",
    "8. `plt.show() ` Displays the plot."
   ]
  },
  {
   "cell_type": "code",
   "execution_count": null,
   "metadata": {},
   "outputs": [],
   "source": [
    "df['rating'] = df['rating'].astype(str)\n",
    "\n",
    "plt.figure(figsize=(8, 6))\n",
    "df['rating'].value_counts().sort_index().plot(kind='bar', color='blue')\n",
    "\n",
    "plt.title('Distribution of Ratings')\n",
    "plt.xlabel('Rating')\n",
    "plt.ylabel('Number of Films')\n",
    "\n",
    "plt.grid(False)\n",
    "plt.show()"
   ]
  },
  {
   "cell_type": "markdown",
   "metadata": {},
   "source": [
    "### 23 e\n",
    "\n",
    "1. `df.loc[df['type'] == 'Movie', 'duration'] = df.loc[df['type'] == 'Movie', 'duration'].fillna(0)`: Fills missing values in the 'duration' column with 0 for movies.\n",
    "\n",
    "2. `df.loc[df['type'] == 'Movie', 'duration'] = df.loc[df['type'] == 'Movie', 'duration'].apply(lambda x: int(x.replace(' min', '')) if isinstance(x, str) else x)`: Converts the 'duration' values to integers, removing the 'min' suffix, if applicable.\n",
    "\n",
    "3. `bins = range(0, int(df.loc[df['type'] == 'Movie', 'duration'].max()) + 31, 30)`: Defines the bins for the histogram, starting from 0 and incrementing by 30 minutes up to the maximum duration of movies plus 30 minutes.\n",
    "\n",
    "4. `plt.figure(figsize=(18,5))`: Creates a figure with a size of 18x5 inches for the plot.\n",
    "\n",
    "5. `movie_durations = df.loc[df['type'] == 'Movie']['duration']`: Selects the movie durations from the DataFrame.\n",
    "\n",
    "6. `duration_counts = pd.cut(movie_durations, bins=bins, right=False).value_counts().sort_index()`: Categorizes the movie durations into the defined bins, counts the number of movies in each bin, and sorts the bins by index.\n",
    "\n",
    "7. `duration_counts.plot(kind='bar', color='blue')`: Plots a bar chart of the duration counts, using color blue\n",
    "\n",
    "8. `plt.xticks(range(len(duration_counts)), [f'{i.left}-{i.right-1}' for i in duration_counts.index], rotation=45)`: Sets the x-axis ticks to display the range of each bin, with a rotation of 45 degrees for better readability.\n",
    "\n",
    "9. `plt.title('Distribution of Movie Durations in 30-minute Bins')`: Sets the title of the plot.\n",
    "\n",
    "10. `plt.xlabel('Duration in minutes')`: Sets the label for the x-axis.\n",
    "\n",
    "11. `plt.ylabel('Number of Movies')`: Sets the label for the y-axis.\n",
    "\n",
    "12. `plt.grid(False)`: Turns off the grid lines for the plot.\n",
    "\n",
    "13. `plt.show()`: Displays the plot."
   ]
  },
  {
   "cell_type": "code",
   "execution_count": 76,
   "metadata": {},
   "outputs": [
    {
     "name": "stderr",
     "output_type": "stream",
     "text": [
      "C:\\Users\\inesl\\AppData\\Local\\Temp\\ipykernel_23116\\194395745.py:1: FutureWarning: Downcasting object dtype arrays on .fillna, .ffill, .bfill is deprecated and will change in a future version. Call result.infer_objects(copy=False) instead. To opt-in to the future behavior, set `pd.set_option('future.no_silent_downcasting', True)`\n",
      "  df.loc[df['type'] == 'Movie', 'duration'] = df.loc[df['type'] == 'Movie', 'duration'].fillna(0)\n"
     ]
    },
    {
     "data": {
      "image/png": "[encoded data removed]",
      "text/plain": [
       "<Figure size 1800x500 with 1 Axes>"
      ]
     },
     "metadata": {},
     "output_type": "display_data"
    }
   ],
   "source": [
    "df.loc[df['type'] == 'Movie', 'duration'] = df.loc[df['type'] == 'Movie', 'duration'].fillna(0)\n",
    "df.loc[df['type'] == 'Movie', 'duration'] = df.loc[df['type'] == 'Movie', 'duration'].apply(lambda x: int(x.replace(' min', '')) if isinstance(x, str) else x)\n",
    "\n",
    "bins = range(0, int(df.loc[df['type'] == 'Movie', 'duration'].max()) + 31, 30)\n",
    "\n",
    "plt.figure(figsize=(18,5))\n",
    "\n",
    "movie_durations = df.loc[df['type'] == 'Movie']['duration']\n",
    "\n",
    "duration_counts = pd.cut(movie_durations, bins=bins, right=False).value_counts().sort_index()\n",
    "\n",
    "duration_counts.plot(kind='bar', color='blue')\n",
    "\n",
    "plt.title('Distribution of Movie Durations in 30-minute Bins')\n",
    "plt.xlabel('Duration in minutes')\n",
    "plt.ylabel('Number of Movies')\n",
    "\n",
    "plt.xticks(range(len(duration_counts)), [f'{i.left}-{i.right-1}' for i in duration_counts.index], rotation=45)\n",
    "\n",
    "plt.grid(False)\n",
    "plt.show()\n"
   ]
  },
  {
   "cell_type": "markdown",
   "metadata": {},
   "source": [
    "### 23 f\n",
    "1. **Importing Regular Expressions Module:**\n",
    "   - The code imports the regular expressions module using `import re`.\n",
    "\n",
    "2. **Filling Missing Values:**\n",
    "   - The code fills missing values in the 'duration' column for TV shows with 0.\n",
    "   - It uses the `fillna()` method to replace NaN values with 0 for TV shows.\n",
    "\n",
    "3. **Extracting Number of Seasons:**\n",
    "   - Regular expressions are used to find and extract the numeric part from each 'duration' value (assuming it represents the number of seasons).\n",
    "   - The `re.search()` function is applied to each 'duration' value to find the numeric part.\n",
    "   - If a numeric part is found, it is extracted using `.group()` and converted to an integer using `int()`.\n",
    "   - This operation is performed using a lambda function within the `apply()` method.\n",
    "\n",
    "4. **Creating the Plot:**\n",
    "   - The code creates a figure with a size of 18x8 inches for the plot using `plt.figure(figsize=(18,8))`.\n",
    "\n",
    "5. **Selecting TV Show Durations:**\n",
    "   - TV show durations are selected from the DataFrame using `df.loc[df['type'] == 'TV Show']['duration']`.\n",
    "\n",
    "6. **Counting Duration Occurrences:**\n",
    "   - The occurrences of each duration (number of seasons) are counted using `value_counts()` and sorted in ascending order using `sort_index()`.\n",
    "\n",
    "7. **Plotting the Bar Chart:**\n",
    "   - A bar chart of TV show durations is plotted using `plot(kind='bar', color='blue')`.\n",
    "\n",
    "8. **Adding Title and Labels:**\n",
    "   - A title ('Distribution of TV Show Durations') and axis labels ('Number of Seasons' for x-axis and 'Number of TV Shows' for y-axis) are added to the plot using `plt.title()`, `plt.xlabel()`, and `plt.ylabel()` functions, respectively.\n",
    "\n",
    "9. **Turning off Grid Lines:**\n",
    "   - Grid lines are turned off for better visualization using `plt.grid(False)`.\n",
    "\n",
    "10. **Showing the Plot:**\n",
    "    - Finally, the plot is displayed using `plt.show()`.\n"
   ]
  },
  {
   "cell_type": "code",
   "execution_count": null,
   "metadata": {},
   "outputs": [],
   "source": [
    "import re\n",
    "\n",
    "df.loc[df['type'] == 'TV Show', 'duration'] = df.loc[df['type'] == 'TV Show', 'duration'].fillna(0)\n",
    "\n",
    "df.loc[df['type'] == 'TV Show', 'duration'] = df.loc[df['type'] == 'TV Show', 'duration'].apply(lambda x: int(re.search(r'\\d+', str(x)).group()) if re.search(r'\\d+', str(x)) else x)\n",
    "\n",
    "plt.figure(figsize=(18,8))\n",
    "\n",
    "tv_show_durations = df.loc[df['type'] == 'TV Show']['duration']\n",
    "\n",
    "duration_counts = tv_show_durations.value_counts().sort_index()\n",
    "\n",
    "duration_counts.plot(kind='bar', color='blue')\n",
    "\n",
    "plt.title('Distribution of TV Show Durations')\n",
    "plt.xlabel('Number of Seasons')\n",
    "plt.ylabel('Number of TV Shows')\n",
    "\n",
    "plt.grid(False)\n",
    "plt.show()"
   ]
  },
  {
   "cell_type": "markdown",
   "metadata": {},
   "source": [
    "### 23 g\n",
    "1. **Creating the Plot:**\n",
    "   - The code creates a figure with a size of 18x5 inches for the plot using `plt.figure(figsize=(18,5))`.\n",
    "\n",
    "2. **Counting Categories:**\n",
    "   - The `explode()` method is applied to the 'listed_in' column to split the comma-separated genres into separate rows.\n",
    "   - Then, the `value_counts()` method counts the occurrences of each genre category.\n",
    "\n",
    "3. **Plotting the Bar Chart:**\n",
    "   - A bar chart of genre categories is plotted using `plot(kind='bar', color='blue')`.\n",
    "   - Each bar represents the count of works in a specific genre category.\n",
    "\n",
    "4. **Adding Title and Labels:**\n",
    "   - A title ('Distribution of Works by Genre') and axis labels ('Genres' for x-axis and 'Number of Works' for y-axis) are added to the plot using `plt.title()`, `plt.xlabel()`, and `plt.ylabel()` functions, respectively.\n",
    "\n",
    "5. **Turning off Grid Lines:**\n",
    "   - Grid lines are turned off for better visualization using `plt.grid(False)`.\n",
    "\n",
    "6. **Showing the Plot:**\n",
    "   - Finally, the plot is displayed using `plt.show()`.\n"
   ]
  },
  {
   "cell_type": "code",
   "execution_count": null,
   "metadata": {},
   "outputs": [],
   "source": [
    "plt.figure(figsize=(20,5))\n",
    "\n",
    "categories = df['listed_in'].explode().value_counts()\n",
    "\n",
    "categories.plot(kind='bar', color='blue')\n",
    "\n",
    "plt.title('Distribution of Works by Genre')\n",
    "plt.xlabel('Genres')\n",
    "plt.ylabel('Number of Works')\n",
    "\n",
    "plt.grid(False)\n",
    "plt.show()"
   ]
  }
 ],
 "metadata": {
  "kernelspec": {
   "display_name": "Python 3",
   "language": "python",
   "name": "python3"
  },
  "language_info": {
   "codemirror_mode": {
    "name": "ipython",
    "version": 3
   },
   "file_extension": ".py",
   "mimetype": "text/x-python",
   "name": "python",
   "nbconvert_exporter": "python",
   "pygments_lexer": "ipython3",
   "version": "3.9.13"
  }
 },
 "nbformat": 4,
 "nbformat_minor": 2
}
