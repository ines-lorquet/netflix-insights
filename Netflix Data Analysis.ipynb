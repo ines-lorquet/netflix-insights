{
 "cells": [
  {
   "cell_type": "markdown",
   "metadata": {},
   "source": [
    "### 3"
   ]
  },
  {
   "cell_type": "code",
   "execution_count": 25,
   "metadata": {},
   "outputs": [],
   "source": [
    "import pandas as pd\n",
    "\n",
    "df = pd.read_csv('netflix_titles.csv')"
   ]
  },
  {
   "cell_type": "markdown",
   "metadata": {},
   "source": [
    "### 4"
   ]
  },
  {
   "cell_type": "code",
   "execution_count": null,
   "metadata": {},
   "outputs": [],
   "source": [
    "df.tail()"
   ]
  },
  {
   "cell_type": "code",
   "execution_count": null,
   "metadata": {},
   "outputs": [],
   "source": [
    "df.head()"
   ]
  },
  {
   "cell_type": "markdown",
   "metadata": {},
   "source": [
    "### 5\n",
    "**Explanation** \n",
    "- Display the information of the DataFrame\n",
    "    - Type of index,\n",
    "    - Columns\n",
    "    - Non-null values\n",
    "    - Memory usage\n"
   ]
  },
  {
   "cell_type": "code",
   "execution_count": null,
   "metadata": {},
   "outputs": [],
   "source": [
    "df.info()"
   ]
  },
  {
   "cell_type": "markdown",
   "metadata": {},
   "source": [
    "### 6\n",
    "**Explanation** \n",
    "- Display the dimensions of the DataFrame.\n"
   ]
  },
  {
   "cell_type": "code",
   "execution_count": 4,
   "metadata": {},
   "outputs": [
    {
     "name": "stdout",
     "output_type": "stream",
     "text": [
      "Number of variables (columns): 12\n",
      "Number of observations (rows): 8807\n"
     ]
    }
   ],
   "source": [
    "dimensions = df.shape\n",
    "nb_rows, nb_columns = dimensions\n",
    "print(f\"Number of variables (columns): {nb_columns}\")\n",
    "print(f\"Number of observations (rows): {nb_rows}\")\n"
   ]
  },
  {
   "cell_type": "markdown",
   "metadata": {},
   "source": [
    "### 7\n",
    "**Explanation** \n",
    "- Display the columns of the DataFrame"
   ]
  },
  {
   "cell_type": "code",
   "execution_count": null,
   "metadata": {},
   "outputs": [],
   "source": [
    "columns = df.columns\n",
    "print(columns)"
   ]
  },
  {
   "cell_type": "markdown",
   "metadata": {},
   "source": [
    "### 8\n",
    "**Explanation** \n",
    "*column_types[column_types.apply(lambda x: pd.api.types.is_numeric_dtype(x))]*\n",
    "1. `apply()`\n",
    "    - applies a function to each element of the series column_types\n",
    "2. `lambda x`\n",
    "    - pd.api.types.is_numeric_dtype(x) is a lambda function that checks if the type x is numeric using pd.api.types.is_numeric_dtype(x)\n",
    "- This expression returns a series of boolean values (True or False), where True indicates that the corresponding column is numeric.\n"
   ]
  },
  {
   "cell_type": "code",
   "execution_count": null,
   "metadata": {},
   "outputs": [],
   "source": [
    "column_types = df.dtypes\n",
    "\n",
    "quantitative_columns = column_types[column_types.apply(lambda x: pd.api.types.is_numeric_dtype(x))]\n",
    "qualitative_columns = column_types[column_types.apply(lambda x: pd.api.types.is_categorical_dtype(x) or pd.api.types.is_object_dtype(x))]\n",
    "\n",
    "print(\"\\nQuantitative columns:\")\n",
    "print(quantitative_columns)\n",
    "print(\"\\nQualitative columns:\")\n",
    "print(qualitative_columns)\n"
   ]
  },
  {
   "cell_type": "markdown",
   "metadata": {},
   "source": [
    "### 9\n",
    "**Explanation** \n",
    "1. `missing_data = df.isnull().sum()`\n",
    "    - Creates a series `missing_data` with missing values per column.\n",
    "\n",
    "2. `total_missing_data = df.isnull().sum().sum()`\n",
    "    - Calculates total missing values in the DataFrame.\n",
    "\n",
    "3. `missing_proportion = (missing_data / len(df)) * 100`\n",
    "    - Calculates missing values proportion per column as a percentage.\n",
    "\n",
    "4. `total_cells = df.size`\n",
    "    - Calculates total number of cells in the DataFrame.\n",
    "\n",
    "5. `total_missing_percentage = (total_missing_data / total_cells) * 100`\n",
    "    - Calculates total missing values percentage across the DataFrame.\n",
    "\n",
    "6. Displaying the results\n",
    "    - `print(\"Missing data per column:\")` displays missing values per column.   \n",
    "    - `print(missing_data)` displays `missing_data`.\n",
    "    - `print(f\"Total percentage of missing data: {total_missing_percentage:.2f}%\")` displays total missing values percentage.\n"
   ]
  },
  {
   "cell_type": "code",
   "execution_count": null,
   "metadata": {},
   "outputs": [],
   "source": [
    "import matplotlib.pyplot as plt\n",
    "import seaborn as sns\n",
    "\n",
    "missing_data = df.isnull().sum()\n",
    "total_missing_data = df.isnull().sum().sum()\n",
    "missing_proportion = (missing_data / len(df)) * 100\n",
    "total_cells = df.size\n",
    "total_missing_percentage = (total_missing_data / total_cells) * 100\n",
    "\n",
    "plt.figure(figsize=(10,6))\n",
    "sns.barplot(x=missing_data.index, y=missing_data.values, palette=\"Blues_r\")\n",
    "plt.xlabel('\\n Column', fontsize=15, color='#2b50bf')\n",
    "plt.ylabel(\"Nb Missing Data\\n\", fontsize=15, color='#2b50bf')\n",
    "plt.title(\"Nb missing data per colomn\\n\", fontsize=18, color='#3b79e5')\n",
    "plt.xticks(rotation= 45)\n",
    "plt.tight_layout()\n",
    "\n",
    "plt.show()\n",
    "\n",
    "print(\"Total percentage of missing data:\", total_missing_percentage)\n"
   ]
  },
  {
   "cell_type": "markdown",
   "metadata": {},
   "source": [
    "### 10\n",
    "**Explanation** \n",
    "1. `missing_data = df.isnull().sum()`\n",
    "    - Creates a series `missing_data` with missing values per column.\n",
    "\n",
    "2. `total_missing_data = df.isnull().sum().sum()`\n",
    "    - Calculates total missing values in the DataFrame.\n",
    "\n",
    "3. `missing_proportion = (missing_data / len(df)) * 100`\n",
    "    - Calculates missing values proportion per column as a percentage."
   ]
  },
  {
   "cell_type": "code",
   "execution_count": null,
   "metadata": {},
   "outputs": [],
   "source": [
    "import missingno as msno\n",
    "msno.bar(df)"
   ]
  },
  {
   "cell_type": "markdown",
   "metadata": {},
   "source": [
    "### 11\n",
    "**Explanation** \n",
    "1. `random_observation = df.sample()` \n",
    "   - Selects a random observation from the DataFrame df.\n",
    "2. `print(random_observation)`\n",
    "   - Displays the selected random observation.\n"
   ]
  },
  {
   "cell_type": "code",
   "execution_count": null,
   "metadata": {},
   "outputs": [],
   "source": [
    "random_observation = df.sample()\n",
    "print(random_observation)"
   ]
  },
  {
   "cell_type": "markdown",
   "metadata": {},
   "source": [
    "### 12\n",
    "**Explanation** \n",
    "1. `df['Titre'] == 'Catch Me If You Can'` \n",
    "   - Crée un masque booléen qui sélectionne toutes les lignes où la colonne \"Titre\" est égale à \"Catch Me If You Can\".\n",
    "2. `df[...]`\n",
    "   - Filtre le DataFrame en utilisant ce masque pour sélectionner toutes les informations relatives à l'œuvre \"Catch Me If You Can\".\n",
    "3. `print(info_catch_me)`\n",
    "    -  Affiche ces informations."
   ]
  },
  {
   "cell_type": "code",
   "execution_count": null,
   "metadata": {},
   "outputs": [],
   "source": [
    "info = df[df['title'] == 'Catch Me If You Can']\n",
    "print(info)"
   ]
  },
  {
   "cell_type": "markdown",
   "metadata": {},
   "source": [
    "### 13 | 14\n",
    "**Explanation** \n",
    "1. `df.query(\"type == 'TV Show'\")` or `df.query(\"type == 'Movie'\")`\n",
    "   - Filter the DataFrame to select only the films with type \"Movie\" or \"TV Show\"\n",
    "1. `df.sort_values(by='release_year', ascending=False)` \n",
    "   - Sorts the DataFrame by the \"release_year\" column in descending order (from newest to oldest)\n",
    "2. `.iloc[0]['Titre'] `\n",
    "   - Selects the movie title in the first row (the most recent movie) of the sorted DataFrame\n",
    "3. `print(f\"The most recent film is : {most_recent_film}\")`\n",
    "    - Displays the name of the most recent movie"
   ]
  },
  {
   "cell_type": "code",
   "execution_count": null,
   "metadata": {},
   "outputs": [],
   "source": [
    "most_recent_film = df.query(\"type == 'Movie'\").sort_values(by='release_year', ascending=False).iloc[0]['title']\n",
    "print(f\"The most recent film is : {most_recent_film}\")"
   ]
  },
  {
   "cell_type": "code",
   "execution_count": null,
   "metadata": {},
   "outputs": [],
   "source": [
    "most_recent_tv_show = df.query(\"type == 'TV Show'\").sort_values(by='release_year', ascending=False).iloc[0]['title']\n",
    "print(f\"The most recent film is : {most_recent_tv_show}\")"
   ]
  },
  {
   "cell_type": "markdown",
   "metadata": {},
   "source": [
    "### 15\n",
    "**Explanation** \n",
    "1. `df['date_added'] = pd.to_datetime(df['date_added'], errors='coerce')`\n",
    "   - Convert the date_added column to DateTime type\n",
    "1. `print(\"date_added : \", df.dtypes['date_added'])` \n",
    "   - Display the data type of the date_added column."
   ]
  },
  {
   "cell_type": "code",
   "execution_count": 11,
   "metadata": {},
   "outputs": [
    {
     "name": "stdout",
     "output_type": "stream",
     "text": [
      "date_added :  datetime64[ns]\n"
     ]
    }
   ],
   "source": [
    "df['date_added'] = pd.to_datetime(df['date_added'], errors='coerce')\n",
    "print(\"date_added : \",df.dtypes['date_added'])"
   ]
  },
  {
   "cell_type": "markdown",
   "metadata": {},
   "source": [
    "### 16\n",
    "**Explanation** \n",
    "1. `df.loc[df['type'] == 'Movie', 'duration'].fillna('0 min')`\n",
    "   - Fill missing values in the 'duration' column for movies ('Movie') with the string '0 min'\n",
    "2. `df.loc[df['type'] == 'Movie', 'duration'] = ...` \n",
    "   - Assign the filled values (or existing values if they are not missing) to the 'duration' column only for movies ('Movie')\n",
    "\n",
    "\n",
    "1. `df.loc[df['type'] == 'Movie', 'duration'].str.replace(' min', '')`\n",
    "   - Remove the text ' min' from each value in the 'duration' column for movies ('Movie')\n",
    "2. `.astype(int)` \n",
    "   - Convert the values in the 'duration' column (which are now strings representing numbers) to integers"
   ]
  },
  {
   "cell_type": "code",
   "execution_count": null,
   "metadata": {},
   "outputs": [],
   "source": [
    "df.loc[df['type'] == 'Movie', 'duration'] = df.loc[df['type'] == 'Movie', 'duration'].fillna('0 min')\n",
    "df.loc[df['type'] == 'Movie', 'duration'] = df.loc[df['type'] == 'Movie', 'duration'].str.replace(' min', '').astype(int)\n",
    "\n",
    "print(df[df['type'] == 'Movie'][['type', 'duration']])\n"
   ]
  },
  {
   "cell_type": "code",
   "execution_count": null,
   "metadata": {},
   "outputs": [],
   "source": [
    "df.loc[df['type'] == 'TV Show', 'duration'] = df.loc[df['type'] == 'TV Show', 'duration'].fillna('0')\n",
    "df.loc[df['type'] == 'TV Show', 'duration'] = df.loc[df['type'] == 'TV Show', 'duration'].str.replace(r'\\D', '').astype(int)\n",
    "\n",
    "print(df['duration'])"
   ]
  },
  {
   "cell_type": "markdown",
   "metadata": {},
   "source": [
    "### 18\n",
    "**Explanation** \n",
    "1. `df['date_added'] = pd.to_datetime(df['date_added'], errors='coerce')`\n",
    "   - Convert the date_added column to DateTime type\n",
    "1. `print(\"date_added : \", df.dtypes['date_added'])` \n",
    "   - Display the data type of the date_added column."
   ]
  },
  {
   "cell_type": "code",
   "execution_count": 27,
   "metadata": {},
   "outputs": [
    {
     "name": "stdout",
     "output_type": "stream",
     "text": [
      "0                                         [Documentaries]\n",
      "1       [International TV Shows, TV Dramas, TV Mysteries]\n",
      "2       [Crime TV Shows, International TV Shows, TV Ac...\n",
      "3                                [Docuseries, Reality TV]\n",
      "4       [International TV Shows, Romantic TV Shows, TV...\n",
      "                              ...                        \n",
      "8802                     [Cult Movies, Dramas, Thrillers]\n",
      "8803             [Kids' TV, Korean TV Shows, TV Comedies]\n",
      "8804                            [Comedies, Horror Movies]\n",
      "8805                 [Children & Family Movies, Comedies]\n",
      "8806     [Dramas, International Movies, Music & Musicals]\n",
      "Name: listed_in, Length: 8807, dtype: object\n"
     ]
    }
   ],
   "source": [
    "df['listed_in'] = df['listed_in'].str.split(', ')\n",
    "\n",
    "print(df['listed_in'])"
   ]
  }
 ],
 "metadata": {
  "kernelspec": {
   "display_name": "Python 3",
   "language": "python",
   "name": "python3"
  },
  "language_info": {
   "codemirror_mode": {
    "name": "ipython",
    "version": 3
   },
   "file_extension": ".py",
   "mimetype": "text/x-python",
   "name": "python",
   "nbconvert_exporter": "python",
   "pygments_lexer": "ipython3",
   "version": "3.9.13"
  }
 },
 "nbformat": 4,
 "nbformat_minor": 2
}
