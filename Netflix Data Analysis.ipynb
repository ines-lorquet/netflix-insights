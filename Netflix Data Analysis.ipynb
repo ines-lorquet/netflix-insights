{
 "cells": [
  {
   "cell_type": "markdown",
   "metadata": {},
   "source": [
    "**1. Réalisez une veille sur l’outil Jupyter Notebook** et installez le sur votre machine (soit en passant par Anaconda, soit directement sur VSCode).<br>\n",
    "Familiarisez vous avec les cellules de code ainsi que les cellules de Markdown.<br><br>\n",
    "**2. Créez et ouvrez un notebook Jupyter.** Nommez le “Netflix Data Analysis”.<br><br>\n",
    "**3. Chargez le dataset à l’aide de Pandas** sous le format d’un DataFrame<br>\n",
    "**Importe** la librairie *pandas*<br>\n",
    "**Importe** les données depuis le fichier csv avec la fonction *read_*<br>\n",
    "**Initialise** une variable *df* qui contient l'objet dataframe<br>"
   ]
  },
  {
   "cell_type": "code",
   "execution_count": 2,
   "metadata": {},
   "outputs": [],
   "source": [
    "import pandas as pd\n",
    "df=pd.read_csv('netflix_titles.csv')"
   ]
  },
  {
   "cell_type": "markdown",
   "metadata": {},
   "source": [
    "**4. Affiche les 5 premières entrée du dataframe** via la variable df."
   ]
  },
  {
   "cell_type": "code",
   "execution_count": 10,
   "metadata": {},
   "outputs": [
    {
     "data": {
      "text/html": [
       "<div>\n",
       "<style scoped>\n",
       "    .dataframe tbody tr th:only-of-type {\n",
       "        vertical-align: middle;\n",
       "    }\n",
       "\n",
       "    .dataframe tbody tr th {\n",
       "        vertical-align: top;\n",
       "    }\n",
       "\n",
       "    .dataframe thead th {\n",
       "        text-align: right;\n",
       "    }\n",
       "</style>\n",
       "<table border=\"1\" class=\"dataframe\">\n",
       "  <thead>\n",
       "    <tr style=\"text-align: right;\">\n",
       "      <th></th>\n",
       "      <th>show_id</th>\n",
       "      <th>type</th>\n",
       "      <th>title</th>\n",
       "      <th>director</th>\n",
       "      <th>cast</th>\n",
       "      <th>country</th>\n",
       "      <th>date_added</th>\n",
       "      <th>release_year</th>\n",
       "      <th>rating</th>\n",
       "      <th>duration</th>\n",
       "      <th>listed_in</th>\n",
       "      <th>description</th>\n",
       "    </tr>\n",
       "  </thead>\n",
       "  <tbody>\n",
       "    <tr>\n",
       "      <th>0</th>\n",
       "      <td>s1</td>\n",
       "      <td>Movie</td>\n",
       "      <td>Dick Johnson Is Dead</td>\n",
       "      <td>Kirsten Johnson</td>\n",
       "      <td>NaN</td>\n",
       "      <td>United States</td>\n",
       "      <td>September 25, 2021</td>\n",
       "      <td>2020</td>\n",
       "      <td>PG-13</td>\n",
       "      <td>90 min</td>\n",
       "      <td>Documentaries</td>\n",
       "      <td>As her father nears the end of his life, filmm...</td>\n",
       "    </tr>\n",
       "    <tr>\n",
       "      <th>1</th>\n",
       "      <td>s2</td>\n",
       "      <td>TV Show</td>\n",
       "      <td>Blood &amp; Water</td>\n",
       "      <td>NaN</td>\n",
       "      <td>Ama Qamata, Khosi Ngema, Gail Mabalane, Thaban...</td>\n",
       "      <td>South Africa</td>\n",
       "      <td>September 24, 2021</td>\n",
       "      <td>2021</td>\n",
       "      <td>TV-MA</td>\n",
       "      <td>2 Seasons</td>\n",
       "      <td>International TV Shows, TV Dramas, TV Mysteries</td>\n",
       "      <td>After crossing paths at a party, a Cape Town t...</td>\n",
       "    </tr>\n",
       "    <tr>\n",
       "      <th>2</th>\n",
       "      <td>s3</td>\n",
       "      <td>TV Show</td>\n",
       "      <td>Ganglands</td>\n",
       "      <td>Julien Leclercq</td>\n",
       "      <td>Sami Bouajila, Tracy Gotoas, Samuel Jouy, Nabi...</td>\n",
       "      <td>NaN</td>\n",
       "      <td>September 24, 2021</td>\n",
       "      <td>2021</td>\n",
       "      <td>TV-MA</td>\n",
       "      <td>1 Season</td>\n",
       "      <td>Crime TV Shows, International TV Shows, TV Act...</td>\n",
       "      <td>To protect his family from a powerful drug lor...</td>\n",
       "    </tr>\n",
       "    <tr>\n",
       "      <th>3</th>\n",
       "      <td>s4</td>\n",
       "      <td>TV Show</td>\n",
       "      <td>Jailbirds New Orleans</td>\n",
       "      <td>NaN</td>\n",
       "      <td>NaN</td>\n",
       "      <td>NaN</td>\n",
       "      <td>September 24, 2021</td>\n",
       "      <td>2021</td>\n",
       "      <td>TV-MA</td>\n",
       "      <td>1 Season</td>\n",
       "      <td>Docuseries, Reality TV</td>\n",
       "      <td>Feuds, flirtations and toilet talk go down amo...</td>\n",
       "    </tr>\n",
       "    <tr>\n",
       "      <th>4</th>\n",
       "      <td>s5</td>\n",
       "      <td>TV Show</td>\n",
       "      <td>Kota Factory</td>\n",
       "      <td>NaN</td>\n",
       "      <td>Mayur More, Jitendra Kumar, Ranjan Raj, Alam K...</td>\n",
       "      <td>India</td>\n",
       "      <td>September 24, 2021</td>\n",
       "      <td>2021</td>\n",
       "      <td>TV-MA</td>\n",
       "      <td>2 Seasons</td>\n",
       "      <td>International TV Shows, Romantic TV Shows, TV ...</td>\n",
       "      <td>In a city of coaching centers known to train I...</td>\n",
       "    </tr>\n",
       "  </tbody>\n",
       "</table>\n",
       "</div>"
      ],
      "text/plain": [
       "  show_id     type                  title         director  \\\n",
       "0      s1    Movie   Dick Johnson Is Dead  Kirsten Johnson   \n",
       "1      s2  TV Show          Blood & Water              NaN   \n",
       "2      s3  TV Show              Ganglands  Julien Leclercq   \n",
       "3      s4  TV Show  Jailbirds New Orleans              NaN   \n",
       "4      s5  TV Show           Kota Factory              NaN   \n",
       "\n",
       "                                                cast        country  \\\n",
       "0                                                NaN  United States   \n",
       "1  Ama Qamata, Khosi Ngema, Gail Mabalane, Thaban...   South Africa   \n",
       "2  Sami Bouajila, Tracy Gotoas, Samuel Jouy, Nabi...            NaN   \n",
       "3                                                NaN            NaN   \n",
       "4  Mayur More, Jitendra Kumar, Ranjan Raj, Alam K...          India   \n",
       "\n",
       "           date_added  release_year rating   duration  \\\n",
       "0  September 25, 2021          2020  PG-13     90 min   \n",
       "1  September 24, 2021          2021  TV-MA  2 Seasons   \n",
       "2  September 24, 2021          2021  TV-MA   1 Season   \n",
       "3  September 24, 2021          2021  TV-MA   1 Season   \n",
       "4  September 24, 2021          2021  TV-MA  2 Seasons   \n",
       "\n",
       "                                           listed_in  \\\n",
       "0                                      Documentaries   \n",
       "1    International TV Shows, TV Dramas, TV Mysteries   \n",
       "2  Crime TV Shows, International TV Shows, TV Act...   \n",
       "3                             Docuseries, Reality TV   \n",
       "4  International TV Shows, Romantic TV Shows, TV ...   \n",
       "\n",
       "                                         description  \n",
       "0  As her father nears the end of his life, filmm...  \n",
       "1  After crossing paths at a party, a Cape Town t...  \n",
       "2  To protect his family from a powerful drug lor...  \n",
       "3  Feuds, flirtations and toilet talk go down amo...  \n",
       "4  In a city of coaching centers known to train I...  "
      ]
     },
     "execution_count": 10,
     "metadata": {},
     "output_type": "execute_result"
    }
   ],
   "source": [
    "df.head()"
   ]
  },
  {
   "cell_type": "markdown",
   "metadata": {},
   "source": [
    "**4 bis. Affiche les 5 dernières entrée du dataframe** via la variable df."
   ]
  },
  {
   "cell_type": "code",
   "execution_count": 11,
   "metadata": {},
   "outputs": [
    {
     "data": {
      "text/html": [
       "<div>\n",
       "<style scoped>\n",
       "    .dataframe tbody tr th:only-of-type {\n",
       "        vertical-align: middle;\n",
       "    }\n",
       "\n",
       "    .dataframe tbody tr th {\n",
       "        vertical-align: top;\n",
       "    }\n",
       "\n",
       "    .dataframe thead th {\n",
       "        text-align: right;\n",
       "    }\n",
       "</style>\n",
       "<table border=\"1\" class=\"dataframe\">\n",
       "  <thead>\n",
       "    <tr style=\"text-align: right;\">\n",
       "      <th></th>\n",
       "      <th>show_id</th>\n",
       "      <th>type</th>\n",
       "      <th>title</th>\n",
       "      <th>director</th>\n",
       "      <th>cast</th>\n",
       "      <th>country</th>\n",
       "      <th>date_added</th>\n",
       "      <th>release_year</th>\n",
       "      <th>rating</th>\n",
       "      <th>duration</th>\n",
       "      <th>listed_in</th>\n",
       "      <th>description</th>\n",
       "    </tr>\n",
       "  </thead>\n",
       "  <tbody>\n",
       "    <tr>\n",
       "      <th>8802</th>\n",
       "      <td>s8803</td>\n",
       "      <td>Movie</td>\n",
       "      <td>Zodiac</td>\n",
       "      <td>David Fincher</td>\n",
       "      <td>Mark Ruffalo, Jake Gyllenhaal, Robert Downey J...</td>\n",
       "      <td>United States</td>\n",
       "      <td>November 20, 2019</td>\n",
       "      <td>2007</td>\n",
       "      <td>R</td>\n",
       "      <td>158 min</td>\n",
       "      <td>Cult Movies, Dramas, Thrillers</td>\n",
       "      <td>A political cartoonist, a crime reporter and a...</td>\n",
       "    </tr>\n",
       "    <tr>\n",
       "      <th>8803</th>\n",
       "      <td>s8804</td>\n",
       "      <td>TV Show</td>\n",
       "      <td>Zombie Dumb</td>\n",
       "      <td>NaN</td>\n",
       "      <td>NaN</td>\n",
       "      <td>NaN</td>\n",
       "      <td>July 1, 2019</td>\n",
       "      <td>2018</td>\n",
       "      <td>TV-Y7</td>\n",
       "      <td>2 Seasons</td>\n",
       "      <td>Kids' TV, Korean TV Shows, TV Comedies</td>\n",
       "      <td>While living alone in a spooky town, a young g...</td>\n",
       "    </tr>\n",
       "    <tr>\n",
       "      <th>8804</th>\n",
       "      <td>s8805</td>\n",
       "      <td>Movie</td>\n",
       "      <td>Zombieland</td>\n",
       "      <td>Ruben Fleischer</td>\n",
       "      <td>Jesse Eisenberg, Woody Harrelson, Emma Stone, ...</td>\n",
       "      <td>United States</td>\n",
       "      <td>November 1, 2019</td>\n",
       "      <td>2009</td>\n",
       "      <td>R</td>\n",
       "      <td>88 min</td>\n",
       "      <td>Comedies, Horror Movies</td>\n",
       "      <td>Looking to survive in a world taken over by zo...</td>\n",
       "    </tr>\n",
       "    <tr>\n",
       "      <th>8805</th>\n",
       "      <td>s8806</td>\n",
       "      <td>Movie</td>\n",
       "      <td>Zoom</td>\n",
       "      <td>Peter Hewitt</td>\n",
       "      <td>Tim Allen, Courteney Cox, Chevy Chase, Kate Ma...</td>\n",
       "      <td>United States</td>\n",
       "      <td>January 11, 2020</td>\n",
       "      <td>2006</td>\n",
       "      <td>PG</td>\n",
       "      <td>88 min</td>\n",
       "      <td>Children &amp; Family Movies, Comedies</td>\n",
       "      <td>Dragged from civilian life, a former superhero...</td>\n",
       "    </tr>\n",
       "    <tr>\n",
       "      <th>8806</th>\n",
       "      <td>s8807</td>\n",
       "      <td>Movie</td>\n",
       "      <td>Zubaan</td>\n",
       "      <td>Mozez Singh</td>\n",
       "      <td>Vicky Kaushal, Sarah-Jane Dias, Raaghav Chanan...</td>\n",
       "      <td>India</td>\n",
       "      <td>March 2, 2019</td>\n",
       "      <td>2015</td>\n",
       "      <td>TV-14</td>\n",
       "      <td>111 min</td>\n",
       "      <td>Dramas, International Movies, Music &amp; Musicals</td>\n",
       "      <td>A scrappy but poor boy worms his way into a ty...</td>\n",
       "    </tr>\n",
       "  </tbody>\n",
       "</table>\n",
       "</div>"
      ],
      "text/plain": [
       "     show_id     type        title         director  \\\n",
       "8802   s8803    Movie       Zodiac    David Fincher   \n",
       "8803   s8804  TV Show  Zombie Dumb              NaN   \n",
       "8804   s8805    Movie   Zombieland  Ruben Fleischer   \n",
       "8805   s8806    Movie         Zoom     Peter Hewitt   \n",
       "8806   s8807    Movie       Zubaan      Mozez Singh   \n",
       "\n",
       "                                                   cast        country  \\\n",
       "8802  Mark Ruffalo, Jake Gyllenhaal, Robert Downey J...  United States   \n",
       "8803                                                NaN            NaN   \n",
       "8804  Jesse Eisenberg, Woody Harrelson, Emma Stone, ...  United States   \n",
       "8805  Tim Allen, Courteney Cox, Chevy Chase, Kate Ma...  United States   \n",
       "8806  Vicky Kaushal, Sarah-Jane Dias, Raaghav Chanan...          India   \n",
       "\n",
       "             date_added  release_year rating   duration  \\\n",
       "8802  November 20, 2019          2007      R    158 min   \n",
       "8803       July 1, 2019          2018  TV-Y7  2 Seasons   \n",
       "8804   November 1, 2019          2009      R     88 min   \n",
       "8805   January 11, 2020          2006     PG     88 min   \n",
       "8806      March 2, 2019          2015  TV-14    111 min   \n",
       "\n",
       "                                           listed_in  \\\n",
       "8802                  Cult Movies, Dramas, Thrillers   \n",
       "8803          Kids' TV, Korean TV Shows, TV Comedies   \n",
       "8804                         Comedies, Horror Movies   \n",
       "8805              Children & Family Movies, Comedies   \n",
       "8806  Dramas, International Movies, Music & Musicals   \n",
       "\n",
       "                                            description  \n",
       "8802  A political cartoonist, a crime reporter and a...  \n",
       "8803  While living alone in a spooky town, a young g...  \n",
       "8804  Looking to survive in a world taken over by zo...  \n",
       "8805  Dragged from civilian life, a former superhero...  \n",
       "8806  A scrappy but poor boy worms his way into a ty...  "
      ]
     },
     "execution_count": 11,
     "metadata": {},
     "output_type": "execute_result"
    }
   ],
   "source": [
    "df.tail()"
   ]
  },
  {
   "cell_type": "markdown",
   "metadata": {},
   "source": [
    "**5. Affichez les informations du DataFrame**<br> notamment le type d'index et\n",
    "les colonnes, les valeurs non nulles et l'utilisation de la mémoire."
   ]
  },
  {
   "cell_type": "code",
   "execution_count": 12,
   "metadata": {},
   "outputs": [
    {
     "name": "stdout",
     "output_type": "stream",
     "text": [
      "<class 'pandas.core.frame.DataFrame'>\n",
      "RangeIndex: 8807 entries, 0 to 8806\n",
      "Data columns (total 12 columns):\n",
      " #   Column        Non-Null Count  Dtype \n",
      "---  ------        --------------  ----- \n",
      " 0   show_id       8807 non-null   object\n",
      " 1   type          8807 non-null   object\n",
      " 2   title         8807 non-null   object\n",
      " 3   director      6173 non-null   object\n",
      " 4   cast          7982 non-null   object\n",
      " 5   country       7976 non-null   object\n",
      " 6   date_added    8797 non-null   object\n",
      " 7   release_year  8807 non-null   int64 \n",
      " 8   rating        8803 non-null   object\n",
      " 9   duration      8804 non-null   object\n",
      " 10  listed_in     8807 non-null   object\n",
      " 11  description   8807 non-null   object\n",
      "dtypes: int64(1), object(11)\n",
      "memory usage: 825.8+ KB\n"
     ]
    }
   ],
   "source": [
    "df.info()"
   ]
  },
  {
   "cell_type": "markdown",
   "metadata": {},
   "source": [
    "**6. Affiche la dimensionnalité du DataFrame.**<br>\n",
    "*Variables* : Les variables sont les colonnes du DataFrame. Il y en a 12.<br>\n",
    "*Observation* : Les observations sont les lignes du DataFrame. Il y en a 8807."
   ]
  },
  {
   "cell_type": "code",
   "execution_count": 13,
   "metadata": {},
   "outputs": [
    {
     "name": "stdout",
     "output_type": "stream",
     "text": [
      "8807 12\n"
     ]
    }
   ],
   "source": [
    "dimensions = df.shape\n",
    "rows, columns = dimensions\n",
    "print(rows, columns)"
   ]
  },
  {
   "cell_type": "markdown",
   "metadata": {},
   "source": [
    "**7. Affichez les colonnes du DataFrame.**\n"
   ]
  },
  {
   "cell_type": "code",
   "execution_count": 14,
   "metadata": {},
   "outputs": [
    {
     "name": "stdout",
     "output_type": "stream",
     "text": [
      "Index(['show_id', 'type', 'title', 'director', 'cast', 'country', 'date_added',\n",
      "       'release_year', 'rating', 'duration', 'listed_in', 'description'],\n",
      "      dtype='object')\n"
     ]
    }
   ],
   "source": [
    "print(df.columns)"
   ]
  },
  {
   "cell_type": "markdown",
   "metadata": {},
   "source": [
    "8. **Affichez le type des différentes colonnes du DataFrame.**"
   ]
  },
  {
   "cell_type": "code",
   "execution_count": 15,
   "metadata": {},
   "outputs": [
    {
     "name": "stdout",
     "output_type": "stream",
     "text": [
      "show_id         object\n",
      "type            object\n",
      "title           object\n",
      "director        object\n",
      "cast            object\n",
      "country         object\n",
      "date_added      object\n",
      "release_year     int64\n",
      "rating          object\n",
      "duration        object\n",
      "listed_in       object\n",
      "description     object\n",
      "dtype: object\n"
     ]
    }
   ],
   "source": [
    "# méthode dtypes : affiche les listed_ins des différentes colonnes d'un DataFrame pandas\n",
    "print(df.dlisted_ins)"
   ]
  },
  {
   "cell_type": "markdown",
   "metadata": {},
   "source": [
    "**Avez-vous des données quantitatives (numériques) ?**\n",
    "<br>Si oui, lesquelles ?"
   ]
  },
  {
   "cell_type": "code",
   "execution_count": 16,
   "metadata": {},
   "outputs": [
    {
     "name": "stdout",
     "output_type": "stream",
     "text": [
      "\n",
      "Colonnes numériques :\n",
      "\n",
      "      release_year\n",
      "0             2020\n",
      "1             2021\n",
      "2             2021\n",
      "3             2021\n",
      "4             2021\n",
      "...            ...\n",
      "8802          2007\n",
      "8803          2018\n",
      "8804          2009\n",
      "8805          2006\n",
      "8806          2015\n",
      "\n",
      "[8807 rows x 1 columns]\n"
     ]
    }
   ],
   "source": [
    "# Sélection les colonnes numériques\n",
    "digital_columns = df.select_dtypes(include=['int64', 'float64'])\n",
    "\n",
    "if len(digital_columns.columns) > 0:\n",
    "    print(\"\\nColonnes numériques :\\n\")\n",
    "    print(digital_columns)\n",
    "else:\n",
    "    print(\"\\nAucune colonne numérique dans le DataFrame.\\n\")"
   ]
  },
  {
   "cell_type": "markdown",
   "metadata": {},
   "source": [
    "**Avez-vous des données qualitatives (catégorielles)**<br>Si oui, lesquelles ?"
   ]
  },
  {
   "cell_type": "code",
   "execution_count": 17,
   "metadata": {},
   "outputs": [
    {
     "name": "stdout",
     "output_type": "stream",
     "text": [
      "Colonnes catégorielles :\n",
      "     show_id     type                  title         director  \\\n",
      "0         s1    Movie   Dick Johnson Is Dead  Kirsten Johnson   \n",
      "1         s2  TV Show          Blood & Water              NaN   \n",
      "2         s3  TV Show              Ganglands  Julien Leclercq   \n",
      "3         s4  TV Show  Jailbirds New Orleans              NaN   \n",
      "4         s5  TV Show           Kota Factory              NaN   \n",
      "...      ...      ...                    ...              ...   \n",
      "8802   s8803    Movie                 Zodiac    David Fincher   \n",
      "8803   s8804  TV Show            Zombie Dumb              NaN   \n",
      "8804   s8805    Movie             Zombieland  Ruben Fleischer   \n",
      "8805   s8806    Movie                   Zoom     Peter Hewitt   \n",
      "8806   s8807    Movie                 Zubaan      Mozez Singh   \n",
      "\n",
      "                                                   cast        country  \\\n",
      "0                                                   NaN  United States   \n",
      "1     Ama Qamata, Khosi Ngema, Gail Mabalane, Thaban...   South Africa   \n",
      "2     Sami Bouajila, Tracy Gotoas, Samuel Jouy, Nabi...            NaN   \n",
      "3                                                   NaN            NaN   \n",
      "4     Mayur More, Jitendra Kumar, Ranjan Raj, Alam K...          India   \n",
      "...                                                 ...            ...   \n",
      "8802  Mark Ruffalo, Jake Gyllenhaal, Robert Downey J...  United States   \n",
      "8803                                                NaN            NaN   \n",
      "8804  Jesse Eisenberg, Woody Harrelson, Emma Stone, ...  United States   \n",
      "8805  Tim Allen, Courteney Cox, Chevy Chase, Kate Ma...  United States   \n",
      "8806  Vicky Kaushal, Sarah-Jane Dias, Raaghav Chanan...          India   \n",
      "\n",
      "              date_added rating   duration  \\\n",
      "0     September 25, 2021  PG-13     90 min   \n",
      "1     September 24, 2021  TV-MA  2 Seasons   \n",
      "2     September 24, 2021  TV-MA   1 Season   \n",
      "3     September 24, 2021  TV-MA   1 Season   \n",
      "4     September 24, 2021  TV-MA  2 Seasons   \n",
      "...                  ...    ...        ...   \n",
      "8802   November 20, 2019      R    158 min   \n",
      "8803        July 1, 2019  TV-Y7  2 Seasons   \n",
      "8804    November 1, 2019      R     88 min   \n",
      "8805    January 11, 2020     PG     88 min   \n",
      "8806       March 2, 2019  TV-14    111 min   \n",
      "\n",
      "                                              listed_in  \\\n",
      "0                                         Documentaries   \n",
      "1       International TV Shows, TV Dramas, TV Mysteries   \n",
      "2     Crime TV Shows, International TV Shows, TV Act...   \n",
      "3                                Docuseries, Reality TV   \n",
      "4     International TV Shows, Romantic TV Shows, TV ...   \n",
      "...                                                 ...   \n",
      "8802                     Cult Movies, Dramas, Thrillers   \n",
      "8803             Kids' TV, Korean TV Shows, TV Comedies   \n",
      "8804                            Comedies, Horror Movies   \n",
      "8805                 Children & Family Movies, Comedies   \n",
      "8806     Dramas, International Movies, Music & Musicals   \n",
      "\n",
      "                                            description  \n",
      "0     As her father nears the end of his life, filmm...  \n",
      "1     After crossing paths at a party, a Cape Town t...  \n",
      "2     To protect his family from a powerful drug lor...  \n",
      "3     Feuds, flirtations and toilet talk go down amo...  \n",
      "4     In a city of coaching centers known to train I...  \n",
      "...                                                 ...  \n",
      "8802  A political cartoonist, a crime reporter and a...  \n",
      "8803  While living alone in a spooky town, a young g...  \n",
      "8804  Looking to survive in a world taken over by zo...  \n",
      "8805  Dragged from civilian life, a former superhero...  \n",
      "8806  A scrappy but poor boy worms his way into a ty...  \n",
      "\n",
      "[8807 rows x 11 columns]\n"
     ]
    }
   ],
   "source": [
    "# Sélection les colonnes catégorielles\n",
    "categorical_columns = df.select_dtypes(include=['object', 'bool'])\n",
    "\n",
    "\n",
    "if len(categorical_columns.columns) > 0:\n",
    "    print(\"Colonnes catégorielles :\")\n",
    "    print(categorical_columns)\n",
    "else:\n",
    "    print(\"Aucune colonne catégorielle dans le DataFrame.\")"
   ]
  },
  {
   "cell_type": "markdown",
   "metadata": {},
   "source": [
    "**9. Y a-t-il des données manquantes ?**<br> Identifiez la proportion en\n",
    "pourcentage."
   ]
  },
  {
   "cell_type": "code",
   "execution_count": 18,
   "metadata": {},
   "outputs": [
    {
     "name": "stdout",
     "output_type": "stream",
     "text": [
      "Proportion de données manquantes en pourcentage :\n",
      "show_id          0.000000\n",
      "type             0.000000\n",
      "title            0.000000\n",
      "director        29.908028\n",
      "cast             9.367549\n",
      "country          9.435676\n",
      "date_added       0.113546\n",
      "release_year     0.000000\n",
      "rating           0.045418\n",
      "duration         0.034064\n",
      "listed_in        0.000000\n",
      "description      0.000000\n",
      "dtype: float64\n"
     ]
    }
   ],
   "source": [
    "\n",
    "missing_data = df.isna()\n",
    "\n",
    "# Calculer la proportion en pourcentage\n",
    "percentage_missing = missing_data.mean() * 100\n",
    "\n",
    "# Afficher les proportions en pourcentage\n",
    "print(\"Proportion de données manquantes en pourcentage :\")\n",
    "print(percentage_missing)"
   ]
  },
  {
   "cell_type": "markdown",
   "metadata": {},
   "source": [
    "**10. A l’aide de la librairie Missingno.**<br> Affichez un graphique représentatif de\n",
    "la proportion des données manquantes.\n"
   ]
  },
  {
   "cell_type": "code",
   "execution_count": null,
   "metadata": {},
   "outputs": [],
   "source": [
    "pip install missingno"
   ]
  },
  {
   "cell_type": "code",
   "execution_count": 19,
   "metadata": {},
   "outputs": [
    {
     "data": {
      "text/plain": [
       "<Axes: >"
      ]
     },
     "execution_count": 19,
     "metadata": {},
     "output_type": "execute_result"
    },
    {
     "data": {
      "image/png": "[encoded data removed]",
      "text/plain": [
       "<Figure size 2500x1000 with 3 Axes>"
      ]
     },
     "metadata": {},
     "output_type": "display_data"
    }
   ],
   "source": [
    "import missingno as msno\n",
    "# Diagramme en barres\n",
    "# Chaque barre symbolise une colonne du jeu de données, leur hauteur correspond au taux de valeurs non nulles dans chaque colonne.\n",
    "msno.bar(df)"
   ]
  },
  {
   "cell_type": "markdown",
   "metadata": {},
   "source": [
    "A gauche le pourcentage de valeurs complètes.<br>A droite les valeurs des index.<br>En haut le nombre de lignes."
   ]
  },
  {
   "cell_type": "code",
   "execution_count": null,
   "metadata": {},
   "outputs": [],
   "source": [
    "# Matrice de nullité\n",
    "# La présence de barres blanches, plus ou moins importantes, symbolise l’absence de valeurs\n",
    "msno.matrix(df)"
   ]
  },
  {
   "cell_type": "markdown",
   "metadata": {},
   "source": [
    "Sur la droite de la matrice, une fine courbe qui oscille de gauche à droite.<br>La droite étant le nombre de colonnes du jeu de données, et la gauche étant donc à zéro<br>Lorsqu’une ligne donnée comporte une valeur dans chaque colonne, la courbe penchera vers la droite.<br>Si les valeurs commencent à manquer, elle penchera vers la gauche."
   ]
  },
  {
   "cell_type": "code",
   "execution_count": null,
   "metadata": {},
   "outputs": [],
   "source": [
    "'''Matrice de corrélation\n",
    "Une valeur proche de -1 signifie que si une variable apparaît, il est très probable que l’autre variable soit manquante.\n",
    "Une valeur proche de 0 signifie qu’il n’y a pas de corrélation particulière sur la présence ou non de valeurs entre deux variables.\n",
    "Une valeur proche de 1 signifie que si une variable apparaît, il est très probable que l’autre variable soit présente.'''\n",
    "\n",
    "# msno.heatmap(df)\n",
    "\n",
    "'''Dendrogramme, diagramme en arborescence\n",
    "Le dendrogramme permet de regrouper les colonnes selon leurs corrélations de nullité.\n",
    "Plus les colonnes sont rapprochées, plus cette corrélation est importante (plus il y a un lien entre leur présence ou absence de valeurs).'''\n",
    "\n",
    "# msno.dendrogram(df)"
   ]
  },
  {
   "cell_type": "markdown",
   "metadata": {},
   "source": [
    "**11. Affichez une observation aléatoire du DataFrame.**"
   ]
  },
  {
   "cell_type": "code",
   "execution_count": 20,
   "metadata": {},
   "outputs": [
    {
     "name": "stdout",
     "output_type": "stream",
     "text": [
      "    show_id   type              title          director  \\\n",
      "786    s787  Movie  Company of Heroes  Don Michael Paul   \n",
      "\n",
      "                                                  cast        country  \\\n",
      "786  Tom Sizemore, Chad Michael Collins, Vinnie Jon...  United States   \n",
      "\n",
      "       date_added  release_year rating duration                   listed_in  \\\n",
      "786  June 2, 2021          2013      R  101 min  Action & Adventure, Dramas   \n",
      "\n",
      "                                           description  \n",
      "786  During the last major German offensive of Worl...  \n"
     ]
    }
   ],
   "source": [
    "random = df.sample()\n",
    "\n",
    "print(random)"
   ]
  },
  {
   "cell_type": "markdown",
   "metadata": {},
   "source": [
    "**12. Affichez toutes les informations de l'œuvre “Catch Me If You Can”.**\n"
   ]
  },
  {
   "cell_type": "code",
   "execution_count": 21,
   "metadata": {},
   "outputs": [
    {
     "name": "stdout",
     "output_type": "stream",
     "text": [
      "Ligne correspondant à catch me if you can :\n",
      "     show_id   type                title          director  \\\n",
      "329    s330  Movie  Catch Me If You Can  Steven Spielberg   \n",
      "\n",
      "                                                  cast                country  \\\n",
      "329  Leonardo DiCaprio, Tom Hanks, Christopher Walk...  United States, Canada   \n",
      "\n",
      "         date_added  release_year rating duration listed_in  \\\n",
      "329  August 1, 2021          2002  PG-13  142 min    Dramas   \n",
      "\n",
      "                                           description          title_lower  \n",
      "329  An FBI agent makes it his mission to put cunni...  catch me if you can  \n"
     ]
    }
   ],
   "source": [
    "# Nettoyer la chaîne de recherche\n",
    "'''\n",
    "search = 'Catch me if you can'\n",
    "NE RETOURNE RIEN, il faut supprimer les espaces.  \n",
    "'''\n",
    "search = 'Catch me if you can'.strip().lower()  # Supprimer les espaces et met en minuscules\n",
    "\n",
    "\n",
    "# Normalise la colonne 'title' pour rechercher\n",
    "df['title_lower'] = df['title'].str.lower()\n",
    "\n",
    "# Sélectionne la ligne qui à le titre qui correspond à la requête (colonne \"title_lower\")\n",
    "ligne = df.loc[df['title_lower'] == search]\n",
    "\n",
    "\n",
    "# Supprimer la colonne temporaire\n",
    "# df.drop(columns=['title_lower'], inplace=True)\n",
    "\n",
    "print(\"Ligne correspondant à\", search, \":\\n\", ligne)\n"
   ]
  },
  {
   "cell_type": "markdown",
   "metadata": {},
   "source": [
    "**13. Affichez le nom du film le plus récent du dataset.**\n"
   ]
  },
  {
   "cell_type": "code",
   "execution_count": 22,
   "metadata": {},
   "outputs": [
    {
     "name": "stdout",
     "output_type": "stream",
     "text": [
      "Le film le plus récent dans le dataset est: My Little Pony: A New Generation\n"
     ]
    }
   ],
   "source": [
    "# Ne conserver que les Movies\n",
    "movies = df[df['type'] == 'Movie']\n",
    "\n",
    "# Trouver la valeur la plus élevé de la colonne 'release_year' \n",
    "most_recent = movies['release_year'].idxmax()\n",
    "\n",
    "# Récupérer le titre du film le plus récent\n",
    "most_recent_movie = df.loc[most_recent, 'title']\n",
    "\n",
    "print(\"Le film le plus récent dans le dataset est:\", most_recent_movie)\n"
   ]
  },
  {
   "cell_type": "markdown",
   "metadata": {},
   "source": [
    "**14. Affichez le nom de la série la plus récente du dataset.**\n"
   ]
  },
  {
   "cell_type": "code",
   "execution_count": 23,
   "metadata": {},
   "outputs": [
    {
     "name": "stdout",
     "output_type": "stream",
     "text": [
      "Le TV show le plus récent dans le dataset est: Blood & Water\n"
     ]
    }
   ],
   "source": [
    "# Ne conserver que les TV shows\n",
    "tv_shows = df[df['type'] == 'TV Show']\n",
    "\n",
    "# Trouver l'indice du TV show le plus récent parmi les TV shows filtrés\n",
    "recent_tv_show = tv_shows['release_year'].idxmax()\n",
    "\n",
    "# Récupérer le titre du TV show le plus récent\n",
    "most_recent_tv_show = tv_shows.loc[recent_tv_show, 'title']\n",
    "\n",
    "print(\"Le TV show le plus récent dans le dataset est:\", most_recent_tv_show)\n"
   ]
  },
  {
   "cell_type": "markdown",
   "metadata": {},
   "source": [
    "**15. Modifiez la variable date_added de telle sorte qu’elle soit de type\n",
    "DateTime.**"
   ]
  },
  {
   "cell_type": "code",
   "execution_count": 24,
   "metadata": {},
   "outputs": [
    {
     "name": "stdout",
     "output_type": "stream",
     "text": [
      "Valeurs de date qui n'ont pas été converties correctement:\n",
      "6066   NaT\n",
      "6079   NaT\n",
      "6174   NaT\n",
      "6177   NaT\n",
      "6213   NaT\n",
      "        ..\n",
      "8539   NaT\n",
      "8557   NaT\n",
      "8684   NaT\n",
      "8712   NaT\n",
      "8755   NaT\n",
      "Name: date_added, Length: 98, dtype: datetime64[ns]\n",
      "show_id                 object\n",
      "type                    object\n",
      "title                   object\n",
      "director                object\n",
      "cast                    object\n",
      "country                 object\n",
      "date_added      datetime64[ns]\n",
      "release_year             int64\n",
      "rating                  object\n",
      "duration                object\n",
      "listed_in               object\n",
      "description             object\n",
      "title_lower             object\n",
      "dtype: object\n"
     ]
    }
   ],
   "source": [
    "# Convertir la variable 'date_added' en type DateTime avec gestion des erreurs\n",
    "df['date_added'] = pd.to_datetime(df['date_added'], errors='coerce')\n",
    "\n",
    "# Afficher les valeurs qui n'ont pas été converties correctement\n",
    "print(\"Valeurs de date qui n'ont pas été converties correctement:\")\n",
    "print(df[df['date_added'].isnull()]['date_added'])\n",
    "\n",
    "# Vérifier le type de données après conversion\n",
    "print(df.dtypes)\n"
   ]
  },
  {
   "cell_type": "markdown",
   "metadata": {},
   "source": [
    "**16. Modifiez la variable duration de telle sorte que la durée des films soit un\n",
    "nombre plutôt qu’une chaîne de caractères**<br>Par exemple : 160 au lieu\n",
    "de “160 min”.\n"
   ]
  },
  {
   "cell_type": "code",
   "execution_count": 25,
   "metadata": {},
   "outputs": [
    {
     "name": "stdout",
     "output_type": "stream",
     "text": [
      "0              90\n",
      "1       2 Seasons\n",
      "2        1 Season\n",
      "3        1 Season\n",
      "4       2 Seasons\n",
      "          ...    \n",
      "8802          158\n",
      "8803    2 Seasons\n",
      "8804           88\n",
      "8805           88\n",
      "8806          111\n",
      "Name: duration, Length: 8807, dtype: object\n"
     ]
    }
   ],
   "source": [
    "# Remplacer les valeurs NaN\n",
    "'''\n",
    "df['type'] == 'Movie' : Crée un masque booléen qui sélectionne toutes les lignes où la valeur de la colonne 'type' est égale à 'Movie'.\n",
    "                        Crée une série de booléens avec True pour les lignes qui correspondent à la condition et False pour les autres.\n",
    "\n",
    "df.loc[condition, 'duration'] : Sélectionne les lignes pour lesquelles la condition est vraie ( type == 'Movie') dans la colonne 'duration'.\n",
    "                                Cela renvoie une série de Pandas contenant les valeurs de la colonne 'duration' pour ces lignes.\n",
    "\n",
    ".fillna('0 min') :  Remplace les valeurs NaN dans la série de la colonne 'duration' par la chaîne de caractères '0 min'.\n",
    "                    Pour les lignes où le type est 'Movie' et où la durée est manquante, la valeur sera remplacée par '0 min'.\n",
    "\n",
    "df.loc[df['type'] == 'Movie', 'duration'] = ... : Remplace les valeurs dans la colonne 'duration' du DataFrame 'df' pour les lignes où le type est 'Movie' par les valeurs retournées par .fillna('0 min').\n",
    "'''\n",
    "df.loc[df['type'] == 'Movie', 'duration'] = df.loc[df['type'] == 'Movie', 'duration'].fillna('0 min')\n",
    "\n",
    "# Conversion de la colonne 'duration' en entiers\n",
    "df.loc[df['type'] == 'Movie', 'duration'] = df.loc[df['type'] == 'Movie', 'duration'].str.replace(' min', '').astype(int)\n",
    "\n",
    "print(df['duration'])\n",
    "\n",
    "\n"
   ]
  },
  {
   "cell_type": "markdown",
   "metadata": {},
   "source": [
    "**17. Modifiez la variable duration de telle sorte que la durée des séries soit\n",
    "un nombre plutôt qu’une chaîne de caractères**<br>Par exemple : 2 au\n",
    "milieu de “2 seasons”.\n"
   ]
  },
  {
   "cell_type": "code",
   "execution_count": 32,
   "metadata": {},
   "outputs": [
    {
     "name": "stdout",
     "output_type": "stream",
     "text": [
      "0        90\n",
      "1         0\n",
      "2         0\n",
      "3         0\n",
      "4         0\n",
      "       ... \n",
      "8802    158\n",
      "8803      0\n",
      "8804     88\n",
      "8805     88\n",
      "8806    111\n",
      "Name: duration, Length: 8807, dtype: object\n"
     ]
    }
   ],
   "source": [
    "# Remplacer les valeurs NaN\n",
    "df.loc[df['type'] == 'TV Show', 'duration'] = df.loc[df['type'] == 'TV Show', 'duration'].fillna('0')\n",
    "\n",
    "# Extraction des chiffres de la chaîne et conversion en entiers\n",
    "'''\n",
    "r'\\D'                       sélectionne tous les caractères qui ne sont pas des chiffres.\n",
    "str.replace(r'\\D', '')      remplace les caractères sélectionnés par une chaîne vide, il ne reste que les chiffres.\n",
    "astype(int)                 converti la colonne en entiers.\n",
    "'''\n",
    "df.loc[df['type'] == 'TV Show', 'duration'] = df.loc[df['type'] == 'TV Show', 'duration'].str.replace(r'\\D', '').astype(int)\n",
    "\n",
    "\n",
    "print(df['duration'])\n"
   ]
  },
  {
   "cell_type": "markdown",
   "metadata": {},
   "source": [
    "**18. Modifiez la variable listed_in de telle sorte que la chaîne de caractères\n",
    "soit un liste de chaîne de caractères**<br>Par exemple : [“International TV\n",
    "Shows”, “TV Dramas”, “TV Mysteries”] au lieu de “International TV\n",
    "Shows, TV Dramas, TV Mysteries”.\n"
   ]
  },
  {
   "cell_type": "code",
   "execution_count": 54,
   "metadata": {},
   "outputs": [
    {
     "name": "stdout",
     "output_type": "stream",
     "text": [
      "0                                         [Documentaries]\n",
      "1       [International TV Shows, TV Dramas, TV Mysteries]\n",
      "2       [Crime TV Shows, International TV Shows, TV Ac...\n",
      "3                                [Docuseries, Reality TV]\n",
      "4       [International TV Shows, Romantic TV Shows, TV...\n",
      "                              ...                        \n",
      "8802                     [Cult Movies, Dramas, Thrillers]\n",
      "8803             [Kids' TV, Korean TV Shows, TV Comedies]\n",
      "8804                            [Comedies, Horror Movies]\n",
      "8805                 [Children & Family Movies, Comedies]\n",
      "8806     [Dramas, International Movies, Music & Musicals]\n",
      "Name: listed_in, Length: 8807, dtype: object\n"
     ]
    }
   ],
   "source": [
    "# la méthode split(', ') divise la chaîne en sous-chaînes séparées par une virgule et un espace.\n",
    "df['listed_in'] = df['listed_in'].str.split(', ')\n",
    "\n",
    "print(df['listed_in'])\n",
    "\n",
    "\n"
   ]
  },
  {
   "cell_type": "markdown",
   "metadata": {},
   "source": [
    "**19. Affichez les valeurs uniques des variables : type, country,\n",
    "release_year, rating et listed_in.**"
   ]
  },
  {
   "cell_type": "code",
   "execution_count": 59,
   "metadata": {},
   "outputs": [
    {
     "name": "stdout",
     "output_type": "stream",
     "text": [
      "Valeurs uniques de 'type' avec leur nombre d'occurrences:\n",
      "type\n",
      "Movie      6131\n",
      "TV Show    2676\n",
      "Name: count, dtype: int64\n",
      "\n",
      "Valeurs uniques de 'country' avec leur nombre d'occurrences:\n",
      "country\n",
      "United States                             2818\n",
      "India                                      972\n",
      "United Kingdom                             419\n",
      "Japan                                      245\n",
      "South Korea                                199\n",
      "                                          ... \n",
      "Romania, Bulgaria, Hungary                   1\n",
      "Uruguay, Guatemala                           1\n",
      "France, Senegal, Belgium                     1\n",
      "Mexico, United States, Spain, Colombia       1\n",
      "United Arab Emirates, Jordan                 1\n",
      "Name: count, Length: 748, dtype: int64\n",
      "\n",
      "Valeurs uniques de 'release_year' avec leur nombre d'occurrences:\n",
      "release_year\n",
      "2018    1147\n",
      "2017    1032\n",
      "2019    1030\n",
      "2020     953\n",
      "2016     902\n",
      "        ... \n",
      "1959       1\n",
      "1925       1\n",
      "1961       1\n",
      "1947       1\n",
      "1966       1\n",
      "Name: count, Length: 74, dtype: int64\n",
      "\n",
      "Valeurs uniques de 'rating' avec leur nombre d'occurrences:\n",
      "rating\n",
      "TV-MA       3207\n",
      "TV-14       2160\n",
      "TV-PG        863\n",
      "R            799\n",
      "PG-13        490\n",
      "TV-Y7        334\n",
      "TV-Y         307\n",
      "PG           287\n",
      "TV-G         220\n",
      "NR            80\n",
      "G             41\n",
      "TV-Y7-FV       6\n",
      "NC-17          3\n",
      "UR             3\n",
      "74 min         1\n",
      "84 min         1\n",
      "66 min         1\n",
      "Name: count, dtype: int64\n",
      "\n",
      "Valeurs uniques de 'listed_in' avec leur nombre d'occurrences:\n",
      "listed_in\n",
      "International Movies            2752\n",
      "Dramas                          2427\n",
      "Comedies                        1674\n",
      "International TV Shows          1351\n",
      "Documentaries                    869\n",
      "Action & Adventure               859\n",
      "TV Dramas                        763\n",
      "Independent Movies               756\n",
      "Children & Family Movies         641\n",
      "Romantic Movies                  616\n",
      "TV Comedies                      581\n",
      "Thrillers                        577\n",
      "Crime TV Shows                   470\n",
      "Kids' TV                         451\n",
      "Docuseries                       395\n",
      "Music & Musicals                 375\n",
      "Romantic TV Shows                370\n",
      "Horror Movies                    357\n",
      "Stand-Up Comedy                  343\n",
      "Reality TV                       255\n",
      "British TV Shows                 253\n",
      "Sci-Fi & Fantasy                 243\n",
      "Sports Movies                    219\n",
      "Anime Series                     176\n",
      "Spanish-Language TV Shows        174\n",
      "TV Action & Adventure            168\n",
      "Korean TV Shows                  151\n",
      "Classic Movies                   116\n",
      "LGBTQ Movies                     102\n",
      "TV Mysteries                      98\n",
      "Science & Nature TV               92\n",
      "TV Sci-Fi & Fantasy               84\n",
      "TV Horror                         75\n",
      "Anime Features                    71\n",
      "Cult Movies                       71\n",
      "Teen TV Shows                     69\n",
      "Faith & Spirituality              65\n",
      "TV Thrillers                      57\n",
      "Movies                            57\n",
      "Stand-Up Comedy & Talk Shows      56\n",
      "Classic & Cult TV                 28\n",
      "TV Shows                          16\n",
      "Name: count, dtype: int64\n"
     ]
    }
   ],
   "source": [
    "# Afficher les valeurs uniques de la variable 'type' avec leur nombre d'occurrences\n",
    "print(\"Valeurs uniques de 'type' avec leur nombre d'occurrences:\")\n",
    "print(df['type'].value_counts())\n",
    "\n",
    "# Afficher les valeurs uniques de la variable 'country' avec leur nombre d'occurrences\n",
    "print(\"\\nValeurs uniques de 'country' avec leur nombre d'occurrences:\")\n",
    "print(df['country'].value_counts())\n",
    "\n",
    "# Afficher les valeurs uniques de la variable 'release_year' avec leur nombre d'occurrences\n",
    "print(\"\\nValeurs uniques de 'release_year' avec leur nombre d'occurrences:\")\n",
    "print(df['release_year'].value_counts())\n",
    "\n",
    "# Afficher les valeurs uniques de la variable 'rating' avec leur nombre d'occurrences\n",
    "print(\"\\nValeurs uniques de 'rating' avec leur nombre d'occurrences:\")\n",
    "print(df['rating'].value_counts())\n",
    "\n",
    "# Afficher les valeurs uniques de la variable 'listed_in' avec leur nombre d'occurrences\n",
    "print(\"\\nValeurs uniques de 'listed_in' avec leur nombre d'occurrences:\")\n",
    "print(df['listed_in'].explode().value_counts())\n"
   ]
  },
  {
   "cell_type": "markdown",
   "metadata": {},
   "source": [
    "**20.Voyez-vous un “director” ayant produit plus d’une œuvre ?**\n"
   ]
  },
  {
   "cell_type": "code",
   "execution_count": 60,
   "metadata": {},
   "outputs": [
    {
     "name": "stdout",
     "output_type": "stream",
     "text": [
      "Directeurs ayant produit plus d'une œuvre :\n",
      "director\n",
      "Rajiv Chilaka                 19\n",
      "Raúl Campos, Jan Suter        18\n",
      "Marcus Raboy                  16\n",
      "Suhas Kadav                   16\n",
      "Jay Karas                     14\n",
      "                              ..\n",
      "Abhijit Panse                  2\n",
      "Jose Manuel Colón              2\n",
      "Rhys Thomas                    2\n",
      "Rizal Mantovani                2\n",
      "Nawapol Thamrongrattanarit     2\n",
      "Name: count, Length: 867, dtype: int64\n"
     ]
    }
   ],
   "source": [
    "# Compter le nombre d'œuvres produites par chaque directeur\n",
    "directors_count = df['director'].value_counts()\n",
    "\n",
    "# Filtrer les directeurs ayant produit plus d'une œuvre\n",
    "prolific_directors = directors_count[directors_count > 1]\n",
    "\n",
    "if not prolific_directors.empty:\n",
    "    print(\"Directeurs ayant produit plus d'une œuvre :\")\n",
    "    print(prolific_directors)\n",
    "else:\n",
    "    print(\"Aucun directeur n'a produit plus d'une œuvre.\")"
   ]
  },
  {
   "cell_type": "markdown",
   "metadata": {},
   "source": [
    "**21. Quelle est l’année avec le plus de films ajoutés au catalogue de Netflix\n",
    "?**\n"
   ]
  },
  {
   "cell_type": "code",
   "execution_count": 69,
   "metadata": {},
   "outputs": [
    {
     "name": "stdout",
     "output_type": "stream",
     "text": [
      "Année comptant le plus d'ajout au catalogue' : 2018\n",
      "Nombre d'ajout au catalogue cette année là : 1147\n"
     ]
    }
   ],
   "source": [
    "prolific_years = df['release_year'].value_counts()\n",
    "\n",
    "# Trouver l'année avec le plus de films ajoutés\n",
    "most_prolific_year = prolific_years.idxmax()\n",
    "number_of_films = prolific_years.max()\n",
    "\n",
    "print(f\"Année comptant le plus d'ajout au catalogue' : {most_prolific_year}\")\n",
    "print(f\"Nombre d'ajout au catalogue cette année là : {number_of_films}\")\n"
   ]
  },
  {
   "cell_type": "markdown",
   "metadata": {},
   "source": [
    "**22.Quelle est l’année avec le plus de séries ajoutées au catalogue de\n",
    "Netflix ?**"
   ]
  },
  {
   "cell_type": "code",
   "execution_count": 72,
   "metadata": {},
   "outputs": [
    {
     "name": "stdout",
     "output_type": "stream",
     "text": [
      "année avec le plus de séries ajoutées au catalogue' : 2018\n",
      "Nombre d'ajout au catalogue cette année là : 436\n"
     ]
    }
   ],
   "source": [
    "# Sélection des années de sortie des séries TV\n",
    "tv_show_prolific_years = df.loc[df['type'] == 'TV Show','release_year'].value_counts()\n",
    "\n",
    "# Trouver l'année avec le plus de films ajoutés\n",
    "tv_show_most_prolific_year = prolific_years.idxmax()\n",
    "number_of_tv_shows = tv_show_prolific_years.max()\n",
    "\n",
    "print(f\"année avec le plus de séries ajoutées au catalogue' : {tv_show_most_prolific_year}\")\n",
    "print(f\"Nombre d'ajout au catalogue cette année là : {number_of_tv_shows}\")\n"
   ]
  },
  {
   "cell_type": "markdown",
   "metadata": {},
   "source": [
    "**23.Visualisation**\n",
    "### a. La répartition du type d'oeuvres du dataset.\n"
   ]
  },
  {
   "cell_type": "code",
   "execution_count": 26,
   "metadata": {},
   "outputs": [
    {
     "data": {
      "image/png": "[encoded data removed]",
      "text/plain": [
       "<Figure size 800x600 with 1 Axes>"
      ]
     },
     "metadata": {},
     "output_type": "display_data"
    }
   ],
   "source": [
    "import matplotlib.pyplot as plt\n",
    "# crée colormap Viridis\n",
    "cmap = plt.get_cmap('viridis')\n",
    "\n",
    "\n",
    "# Compter le nombre d'œuvres de chaque type\n",
    "type_counts = df['type'].value_counts()\n",
    "\n",
    "# Créer le graphique à barres\n",
    "plt.figure(figsize=(8, 6))\n",
    "type_counts.plot(kind='bar', color=[cmap(0.2), cmap(0.8)])  \n",
    "plt.title(\"Répartition des types d'œuvres\")\n",
    "plt.xlabel(\"Type d'œuvre\")\n",
    "plt.ylabel(\"Nombre d'œuvres\")\n",
    "plt.xticks(rotation=0)  # Rotation des étiquettes de l'axe des x\n",
    "plt.grid(axis='y', linestyle='--', alpha=0.7)\n",
    "plt.tight_layout()  # Ajuster la mise en page pour éviter que le titre ne soit coupé\n",
    "plt.show()\n",
    "\n",
    "\n",
    "\n"
   ]
  },
  {
   "cell_type": "markdown",
   "metadata": {},
   "source": [
    "### b. La répartition des oeuvres en fonction des pays du dataset\n",
    "Il va falloir ruser, car Il y a trop de pays pour pouuvoir faire un grapphique clair.<br>Parmis lesquels, une grande majorité on une production très restreinte."
   ]
  },
  {
   "cell_type": "code",
   "execution_count": 31,
   "metadata": {},
   "outputs": [
    {
     "data": {
      "image/png": "[encoded data removed]",
      "text/plain": [
       "<Figure size 1000x600 with 1 Axes>"
      ]
     },
     "metadata": {},
     "output_type": "display_data"
    }
   ],
   "source": [
    "import numpy as np\n",
    "\n",
    "# Les 15 premiers pays avec le plus grand nombre d'œuvres\n",
    "top_countries = df['country'].value_counts().head(15)\n",
    "\n",
    "# Calculer la somme des œuvres des autres pays\n",
    "other_countries = df['country'].value_counts().tail(-15)\n",
    "other_countries_sum = other_countries.sum()\n",
    "\n",
    "# Créer une série contenant les 20 premiers pays et la somme des autres pays\n",
    "all_countries = pd.concat([top_countries, pd.Series(other_countries_sum, index=['Other Countries'])])\n",
    "\n",
    "# Créer la colormap Viridis\n",
    "cmap = plt.get_cmap('viridis')\n",
    "colors = cmap(np.linspace(0, 1, len(all_countries)))\n",
    "\n",
    "# Créer le graphique à barres\n",
    "plt.figure(figsize=(10, 6))\n",
    "all_countries.plot(kind='bar', color=colors)\n",
    "plt.title(\"Répartition des œuvres par pays (Top 20 + Autres)\")\n",
    "plt.xlabel(\"Pays\")\n",
    "plt.ylabel(\"Nombre d'œuvres\")\n",
    "plt.xticks(rotation=45)  # Rotation des étiquettes de l'axe des x pour une meilleure lisibilité\n",
    "plt.grid(axis='y', linestyle='--', alpha=0.7)\n",
    "plt.tight_layout()\n",
    "plt.show()\n",
    "\n",
    "\n"
   ]
  },
  {
   "cell_type": "code",
   "execution_count": 32,
   "metadata": {},
   "outputs": [
    {
     "name": "stdout",
     "output_type": "stream",
     "text": [
      "country\n",
      "United States                             2818\n",
      "India                                      972\n",
      "United Kingdom                             419\n",
      "Japan                                      245\n",
      "South Korea                                199\n",
      "                                          ... \n",
      "Romania, Bulgaria, Hungary                   1\n",
      "Uruguay, Guatemala                           1\n",
      "France, Senegal, Belgium                     1\n",
      "Mexico, United States, Spain, Colombia       1\n",
      "United Arab Emirates, Jordan                 1\n",
      "Name: count, Length: 748, dtype: int64\n",
      "\n",
      "Nombre de valeurs différentes dans la colonne 'country' : 748\n"
     ]
    }
   ],
   "source": [
    "# Compter le nombre d'œuvres de chaque type\n",
    "country_counts = df['country'].value_counts()\n",
    "print(country_counts)\n",
    "\n",
    "# Compter le nombre de valeurs uniques dans la colonne 'country'\n",
    "different_countries = df['country'].nunique()\n",
    "\n",
    "print(\"\\nNombre de valeurs différentes dans la colonne 'country' :\", different_countries)"
   ]
  }
 ],
 "metadata": {
  "kernelspec": {
   "display_name": "Python 3",
   "language": "python",
   "name": "python3"
  },
  "language_info": {
   "codemirror_mode": {
    "name": "ipython",
    "version": 3
   },
   "file_extension": ".py",
   "mimetype": "text/x-python",
   "name": "python",
   "nbconvert_exporter": "python",
   "pygments_lexer": "ipython3",
   "version": "3.11.9"
  }
 },
 "nbformat": 4,
 "nbformat_minor": 2
}
