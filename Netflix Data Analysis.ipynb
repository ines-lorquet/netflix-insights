{
 "cells": [
  {
   "cell_type": "code",
   "execution_count": 30,
   "metadata": {},
   "outputs": [],
   "source": [
    "import pandas as pd\n",
    "df=pd.read_csv('netflix_titles.csv')\n"
   ]
  },
  {
   "cell_type": "markdown",
   "metadata": {},
   "source": [
    "Importe la librairie *pandas*<br>\n",
    "Importe les données depuis le fichier csv avec la fonction *read_*<br>\n",
    "Initialise une variable *df* qui contient l'objet dataframe<br>"
   ]
  },
  {
   "cell_type": "markdown",
   "metadata": {},
   "source": [
    "Affiche les 5 premières entrée du dataframe"
   ]
  },
  {
   "cell_type": "code",
   "execution_count": null,
   "metadata": {},
   "outputs": [],
   "source": [
    "df.head()"
   ]
  },
  {
   "cell_type": "code",
   "execution_count": null,
   "metadata": {},
   "outputs": [],
   "source": [
    "df.tail()"
   ]
  },
  {
   "cell_type": "code",
   "execution_count": null,
   "metadata": {},
   "outputs": [],
   "source": [
    "df.info()"
   ]
  },
  {
   "cell_type": "code",
   "execution_count": null,
   "metadata": {},
   "outputs": [],
   "source": []
  },
  {
   "cell_type": "code",
   "execution_count": 16,
   "metadata": {},
   "outputs": [
    {
     "name": "stdout",
     "output_type": "stream",
     "text": [
      "8807 12\n"
     ]
    }
   ],
   "source": [
    "\n",
    "dimensions = df.shape\n",
    "rows, columns = dimensions\n",
    "print(rows, columns)"
   ]
  },
  {
   "cell_type": "code",
   "execution_count": 18,
   "metadata": {},
   "outputs": [
    {
     "name": "stdout",
     "output_type": "stream",
     "text": [
      "Index(['show_id', 'type', 'title', 'director', 'cast', 'country', 'date_added',\n",
      "       'release_year', 'rating', 'duration', 'listed_in', 'description'],\n",
      "      dtype='object')\n"
     ]
    }
   ],
   "source": [
    "columns = df.columns\n",
    "print(columns)"
   ]
  },
  {
   "cell_type": "code",
   "execution_count": null,
   "metadata": {},
   "outputs": [],
   "source": [
    "# type_de_donnees = df['show_id'].dtype\n",
    "data_types = df.dtypes\n",
    "print(data_types)"
   ]
  },
  {
   "cell_type": "code",
   "execution_count": 33,
   "metadata": {},
   "outputs": [
    {
     "name": "stdout",
     "output_type": "stream",
     "text": [
      "show_id         False\n",
      "type            False\n",
      "title           False\n",
      "director        False\n",
      "cast            False\n",
      "country         False\n",
      "date_added      False\n",
      "release_year     True\n",
      "rating          False\n",
      "duration        False\n",
      "listed_in       False\n",
      "description     False\n",
      "dtype: bool\n"
     ]
    }
   ],
   "source": [
    "# Filtrer les colonnes avec des types de données numériques\n",
    "# numeric_data = data_types[(data_types == 'int64') | (data_types == 'float64')]\n",
    "numeric_data = data_types.apply(pd.api.types.is_numeric_dtype)\n",
    "print(numeric_data)"
   ]
  },
  {
   "cell_type": "markdown",
   "metadata": {},
   "source": [
    "**double étoile pour écrire en gras**\n",
    "*simple étoile pour écrire en italique*"
   ]
  }
 ],
 "metadata": {
  "kernelspec": {
   "display_name": "Python 3",
   "language": "python",
   "name": "python3"
  },
  "language_info": {
   "codemirror_mode": {
    "name": "ipython",
    "version": 3
   },
   "file_extension": ".py",
   "mimetype": "text/x-python",
   "name": "python",
   "nbconvert_exporter": "python",
   "pygments_lexer": "ipython3",
   "version": "3.11.9"
  }
 },
 "nbformat": 4,
 "nbformat_minor": 2
}
